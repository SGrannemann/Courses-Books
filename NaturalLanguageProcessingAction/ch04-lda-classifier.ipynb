{
 "metadata": {
  "language_info": {
   "codemirror_mode": {
    "name": "ipython",
    "version": 3
   },
   "file_extension": ".py",
   "mimetype": "text/x-python",
   "name": "python",
   "nbconvert_exporter": "python",
   "pygments_lexer": "ipython3",
   "version": "3.8.3-final"
  },
  "orig_nbformat": 2,
  "kernelspec": {
   "name": "python3",
   "display_name": "Python 3.8.3 64-bit",
   "metadata": {
    "interpreter": {
     "hash": "1baa965d5efe3ac65b79dfc60c0d706280b1da80fedb7760faf2759126c4f253"
    }
   }
  }
 },
 "nbformat": 4,
 "nbformat_minor": 2,
 "cells": [
  {
   "cell_type": "code",
   "execution_count": 24,
   "metadata": {},
   "outputs": [
    {
     "output_type": "stream",
     "name": "stdout",
     "text": [
      "       spam                                               text\nsms0      0  Go until jurong point, crazy.. Available only ...\nsms1      0                      Ok lar... Joking wif u oni...\nsms2!     1  Free entry in 2 a wkly comp to win FA Cup fina...\nsms3      0  U dun say so early hor... U c already then say...\nsms4      0  Nah I don't think he goes to usf, he lives aro...\n"
     ]
    }
   ],
   "source": [
    "# this notebook uses a training data set available via the books github to train an LDA (linear discriminant analysis) classifier to detect if a sms is spam or not\n",
    "import pandas as pd\n",
    "from sklearn.feature_extraction.text import TfidfVectorizer\n",
    "from nltk.tokenize.casual import casual_tokenize\n",
    "from sklearn.preprocessing import MinMaxScaler\n",
    "from sklearn.metrics import plot_confusion_matrix, confusion_matrix\n",
    "# lets get the data into a dataframe\n",
    "sms = pd.read_csv('sms-spam.csv', index_col=0)\n",
    "\n",
    "sms['spam'] = sms.spam.astype(int)\n",
    "index = ['sms{}{}'.format(i, '!'*j) for (i,j) in zip(range(len(sms)), sms.spam)]\n",
    "sms = pd.DataFrame(sms.values, columns=sms.columns, index=index)\n",
    "sms['spam'] = sms.spam.astype(int)\n",
    "print(sms.head())"
   ]
  },
  {
   "cell_type": "code",
   "execution_count": 25,
   "metadata": {},
   "outputs": [
    {
     "output_type": "stream",
     "name": "stdout",
     "text": [
      "(4837, 9232)\n638\n"
     ]
    }
   ],
   "source": [
    "# create the tokens and tf idf vectors\n",
    "tfidf_model = TfidfVectorizer(tokenizer=casual_tokenize)\n",
    "tfidf_docs = tfidf_model.fit_transform(raw_documents=sms.text).toarray()\n",
    "print(tfidf_docs.shape)\n",
    "print(sms.spam.sum())"
   ]
  },
  {
   "cell_type": "code",
   "execution_count": 26,
   "metadata": {},
   "outputs": [],
   "source": [
    "# start with the actual LDA by calculating the centroids for spam and not spam\n",
    "mask = sms.spam.astype(bool).values\n",
    "# use axis=0 because the tfidf vectors are row vectors, but we want to calculate each column independently\n",
    "spam_centroid = tfidf_docs[mask].mean(axis=0)\n",
    "ham_centroid = tfidf_docs[~mask].mean(axis=0)\n"
   ]
  },
  {
   "cell_type": "code",
   "execution_count": 27,
   "metadata": {},
   "outputs": [
    {
     "output_type": "stream",
     "name": "stdout",
     "text": [
      "[-0.01 -0.02  0.04 ... -0.01 -0.    0.  ]\n4837\n"
     ]
    }
   ],
   "source": [
    "# substract one centroid from the other to get the line between themn\n",
    "spamminess_score = tfidf_docs.dot(spam_centroid - ham_centroid)\n",
    "print(spamminess_score.round(2))\n",
    "print(len(spamminess_score))"
   ]
  },
  {
   "cell_type": "code",
   "execution_count": null,
   "metadata": {},
   "outputs": [],
   "source": []
  },
  {
   "cell_type": "code",
   "execution_count": 28,
   "metadata": {},
   "outputs": [
    {
     "output_type": "execute_result",
     "data": {
      "text/plain": [
       "       spam  lda_predict  lda_score\n",
       "sms0      0            0       0.23\n",
       "sms1      0            0       0.18\n",
       "sms2!     1            1       0.72\n",
       "sms3      0            0       0.18\n",
       "sms4      0            0       0.29\n",
       "sms5!     1            1       0.55"
      ],
      "text/html": "<div>\n<style scoped>\n    .dataframe tbody tr th:only-of-type {\n        vertical-align: middle;\n    }\n\n    .dataframe tbody tr th {\n        vertical-align: top;\n    }\n\n    .dataframe thead th {\n        text-align: right;\n    }\n</style>\n<table border=\"1\" class=\"dataframe\">\n  <thead>\n    <tr style=\"text-align: right;\">\n      <th></th>\n      <th>spam</th>\n      <th>lda_predict</th>\n      <th>lda_score</th>\n    </tr>\n  </thead>\n  <tbody>\n    <tr>\n      <th>sms0</th>\n      <td>0</td>\n      <td>0</td>\n      <td>0.23</td>\n    </tr>\n    <tr>\n      <th>sms1</th>\n      <td>0</td>\n      <td>0</td>\n      <td>0.18</td>\n    </tr>\n    <tr>\n      <th>sms2!</th>\n      <td>1</td>\n      <td>1</td>\n      <td>0.72</td>\n    </tr>\n    <tr>\n      <th>sms3</th>\n      <td>0</td>\n      <td>0</td>\n      <td>0.18</td>\n    </tr>\n    <tr>\n      <th>sms4</th>\n      <td>0</td>\n      <td>0</td>\n      <td>0.29</td>\n    </tr>\n    <tr>\n      <th>sms5!</th>\n      <td>1</td>\n      <td>1</td>\n      <td>0.55</td>\n    </tr>\n  </tbody>\n</table>\n</div>"
     },
     "metadata": {},
     "execution_count": 28
    }
   ],
   "source": [
    "# rescale the actual score for prediction and predict!\n",
    "sms['lda_score'] = MinMaxScaler().fit_transform(spamminess_score.reshape(-1,1))\n",
    "sms['lda_predict'] = (sms.lda_score > .5).astype(int)\n",
    "sms['spam lda_predict lda_score'.split()].round(2).head(6)"
   ]
  },
  {
   "cell_type": "code",
   "execution_count": 29,
   "metadata": {},
   "outputs": [
    {
     "output_type": "execute_result",
     "data": {
      "text/plain": [
       "0.977"
      ]
     },
     "metadata": {},
     "execution_count": 29
    }
   ],
   "source": [
    "# check the performance in the training set. WARNING: This is not indicative of the actual performance of the model - the book is clear on that, so I thought I add that here just in case any one just sees this example and not the accompanying text.\n",
    "(1. - (sms.spam - sms.lda_predict).abs().sum() / len(sms)).round(3)"
   ]
  },
  {
   "cell_type": "code",
   "execution_count": 30,
   "metadata": {},
   "outputs": [
    {
     "output_type": "stream",
     "name": "stdout",
     "text": [
      "[[4135   64]\n [  45  593]]\n"
     ]
    }
   ],
   "source": [
    "# lets have a look at the confusion matrix (again, training set only)\n",
    "cm = confusion_matrix(sms.spam, sms.lda_predict)\n",
    "print(cm)"
   ]
  },
  {
   "cell_type": "code",
   "execution_count": null,
   "metadata": {},
   "outputs": [],
   "source": [
    "# so we got 64 false positives and 45 false negatives. quite good! but: training set only, so the performance is expected to be good!"
   ]
  }
 ]
}