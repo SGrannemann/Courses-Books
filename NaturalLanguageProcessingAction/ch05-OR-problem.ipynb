{
 "metadata": {
  "language_info": {
   "codemirror_mode": {
    "name": "ipython",
    "version": 3
   },
   "file_extension": ".py",
   "mimetype": "text/x-python",
   "name": "python",
   "nbconvert_exporter": "python",
   "pygments_lexer": "ipython3",
   "version": "3.8.3"
  },
  "orig_nbformat": 2,
  "kernelspec": {
   "name": "python383jvsc74a57bd01baa965d5efe3ac65b79dfc60c0d706280b1da80fedb7760faf2759126c4f253",
   "display_name": "Python 3.8.3 64-bit"
  },
  "metadata": {
   "interpreter": {
    "hash": "1baa965d5efe3ac65b79dfc60c0d706280b1da80fedb7760faf2759126c4f253"
   }
  }
 },
 "nbformat": 4,
 "nbformat_minor": 2,
 "cells": [
  {
   "cell_type": "code",
   "execution_count": 1,
   "metadata": {},
   "outputs": [
    {
     "output_type": "stream",
     "name": "stdout",
     "text": [
      "Predicted 0\nExpected: 0\nPredicted 0\nExpected: 1\nPredicted 0\nExpected: 1\nPredicted 0\nExpected: 1\n"
     ]
    }
   ],
   "source": [
    "from random import random\n",
    "import numpy as np\n",
    "\n",
    "sample_data = [[0,0],\n",
    "               [0,1],\n",
    "               [1,0],\n",
    "               [1,1]]\n",
    "expected_results = [0,1,1,1]\n",
    "\n",
    "activation_threshold = 0.5\n",
    "\n",
    "weights = np.random.random(2)/1000 #small random float 0 < w < 0.001\n",
    "\n",
    "bias_weight =  np.random.random() / 1000\n",
    "\n",
    "for idx, sample in enumerate(sample_data):\n",
    "    input_vector = np.array(sample)\n",
    "    activation_level = np.dot(input_vector, weights) + (bias_weight * 1)\n",
    "    if activation_level > activation_threshold:\n",
    "        perceptron_output = 1\n",
    "    else:\n",
    "        perceptron_output = 0 \n",
    "    if perceptron_output == expected_results[idx]:\n",
    "        correct_answers += 1\n",
    "    new_weights = []\n",
    "    for i,x in enumerate(sample):\n",
    "        new_weights.append(weights[i] + (expected_results[idx] - perceptron_output) * x)\n",
    "    bias_weight = bias_weight + ((expected_results[idx] - perceptron_output) * 1)\n",
    "    weights = np.array(new_weights)\n",
    "\n",
    "    print('{} correct answers out of 4, for iteration {}'.format(correct_answers, iteration_num))\n"
   ]
  },
  {
   "cell_type": "code",
   "execution_count": null,
   "metadata": {},
   "outputs": [],
   "source": []
  }
 ]
}