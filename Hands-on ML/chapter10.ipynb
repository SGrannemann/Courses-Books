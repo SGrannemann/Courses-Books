{
 "cells": [
  {
   "cell_type": "code",
   "execution_count": 1,
   "metadata": {},
   "outputs": [],
   "source": [
    "import numpy as np\n",
    "from sklearn.datasets import load_iris\n",
    "from sklearn.linear_model import Perceptron\n",
    "\n",
    "iris = load_iris()\n",
    "X = iris.data[:, (2,3)] # petal length, petal width\n",
    "y = (iris.target == 0).astype(np.int) # iris setosa?\n",
    "\n",
    "per_clf = Perceptron()\n",
    "per_clf.fit(X, y)\n",
    "\n",
    "y_pred = per_clf.predict([[2, 0.5]])"
   ]
  },
  {
   "cell_type": "markdown",
   "metadata": {},
   "source": [
    "# Use Keras API"
   ]
  },
  {
   "cell_type": "code",
   "execution_count": 2,
   "metadata": {},
   "outputs": [],
   "source": [
    "import tensorflow as tf\n",
    "from tensorflow import keras\n",
    "\n",
    "fashion_mnist = keras.datasets.fashion_mnist\n",
    "(X_train_full, y_train_full), (X_test, y_test) = fashion_mnist.load_data()"
   ]
  },
  {
   "cell_type": "code",
   "execution_count": 3,
   "metadata": {},
   "outputs": [
    {
     "data": {
      "text/plain": [
       "(60000, 28, 28)"
      ]
     },
     "execution_count": 3,
     "metadata": {},
     "output_type": "execute_result"
    }
   ],
   "source": [
    "X_train_full.shape"
   ]
  },
  {
   "cell_type": "code",
   "execution_count": 4,
   "metadata": {},
   "outputs": [],
   "source": [
    "X_valid, X_train = X_train_full[:5000] / 255.0, X_train_full[5000:] / 255.0\n",
    "y_valid, y_train = y_train_full[:5000], y_train_full[5000:]\n",
    "X_test = X_test / 255.0"
   ]
  },
  {
   "cell_type": "code",
   "execution_count": 5,
   "metadata": {},
   "outputs": [
    {
     "data": {
      "text/plain": [
       "'Coat'"
      ]
     },
     "execution_count": 5,
     "metadata": {},
     "output_type": "execute_result"
    }
   ],
   "source": [
    "class_names = ['T-shirt/top', 'Trouser', 'Pullover', 'Dress', 'Coat', 'Sandal', 'Shirt', 'Sneaker', 'Bag', 'Ankle boot']\n",
    "class_names[y_train[0]]"
   ]
  },
  {
   "cell_type": "code",
   "execution_count": 6,
   "metadata": {},
   "outputs": [],
   "source": [
    "# build the model\n",
    "model = keras.models.Sequential()\n",
    "model.add(keras.layers.Flatten(input_shape=[28, 28]))\n",
    "model.add(keras.layers.Dense(300, activation='relu'))\n",
    "model.add(keras.layers.Dense(100, activation='relu'))\n",
    "model.add(keras.layers.Dense(10, activation='softmax'))"
   ]
  },
  {
   "cell_type": "code",
   "execution_count": 7,
   "metadata": {},
   "outputs": [
    {
     "name": "stdout",
     "output_type": "stream",
     "text": [
      "Model: \"sequential_1\"\n",
      "_________________________________________________________________\n",
      "Layer (type)                 Output Shape              Param #   \n",
      "=================================================================\n",
      "flatten_1 (Flatten)          (None, 784)               0         \n",
      "_________________________________________________________________\n",
      "dense_3 (Dense)              (None, 300)               235500    \n",
      "_________________________________________________________________\n",
      "dense_4 (Dense)              (None, 100)               30100     \n",
      "_________________________________________________________________\n",
      "dense_5 (Dense)              (None, 10)                1010      \n",
      "=================================================================\n",
      "Total params: 266,610\n",
      "Trainable params: 266,610\n",
      "Non-trainable params: 0\n",
      "_________________________________________________________________\n"
     ]
    }
   ],
   "source": [
    "# equivalent way by passing all layers during creation\n",
    "model = keras.models.Sequential([\n",
    "keras.layers.Flatten(input_shape=[28, 28]),\n",
    "keras.layers.Dense(300, activation='relu'), \n",
    "keras.layers.Dense(100, activation='relu'), \n",
    "keras.layers.Dense(10, activation='softmax')])\n",
    "#keras.utils.plot_model(model)\n",
    "model.summary()"
   ]
  },
  {
   "cell_type": "code",
   "execution_count": 8,
   "metadata": {},
   "outputs": [],
   "source": [
    "model.compile(loss='sparse_categorical_crossentropy', optimizer='sgd', metrics=['accuracy']) #sparse categorical because we have sparse labels (only the index of the class, rather than a one-hot encoding)"
   ]
  },
  {
   "cell_type": "markdown",
   "metadata": {},
   "source": [
    "## training and evaluating the model"
   ]
  },
  {
   "cell_type": "code",
   "execution_count": 9,
   "metadata": {},
   "outputs": [
    {
     "name": "stdout",
     "output_type": "stream",
     "text": [
      "Epoch 1/30\n",
      "1719/1719 [==============================] - 6s 3ms/step - loss: 0.7231 - accuracy: 0.7668 - val_loss: 0.4954 - val_accuracy: 0.8410\n",
      "Epoch 2/30\n",
      "1719/1719 [==============================] - 6s 3ms/step - loss: 0.4853 - accuracy: 0.8309 - val_loss: 0.4847 - val_accuracy: 0.8254\n",
      "Epoch 3/30\n",
      "1719/1719 [==============================] - 6s 3ms/step - loss: 0.4382 - accuracy: 0.8456 - val_loss: 0.4073 - val_accuracy: 0.8644\n",
      "Epoch 4/30\n",
      "1719/1719 [==============================] - 6s 3ms/step - loss: 0.4108 - accuracy: 0.8560 - val_loss: 0.4060 - val_accuracy: 0.8564\n",
      "Epoch 5/30\n",
      "1719/1719 [==============================] - 6s 3ms/step - loss: 0.3894 - accuracy: 0.8625 - val_loss: 0.3756 - val_accuracy: 0.8720\n",
      "Epoch 6/30\n",
      "1719/1719 [==============================] - 6s 3ms/step - loss: 0.3736 - accuracy: 0.8686 - val_loss: 0.3677 - val_accuracy: 0.8758\n",
      "Epoch 7/30\n",
      "1719/1719 [==============================] - 6s 3ms/step - loss: 0.3608 - accuracy: 0.8729 - val_loss: 0.3555 - val_accuracy: 0.8796\n",
      "Epoch 8/30\n",
      "1719/1719 [==============================] - 6s 3ms/step - loss: 0.3492 - accuracy: 0.8773 - val_loss: 0.3690 - val_accuracy: 0.8706\n",
      "Epoch 9/30\n",
      "1719/1719 [==============================] - 6s 3ms/step - loss: 0.3384 - accuracy: 0.8797 - val_loss: 0.3477 - val_accuracy: 0.8772\n",
      "Epoch 10/30\n",
      "1719/1719 [==============================] - 6s 3ms/step - loss: 0.3300 - accuracy: 0.8831 - val_loss: 0.3376 - val_accuracy: 0.8828\n",
      "Epoch 11/30\n",
      "1719/1719 [==============================] - 6s 3ms/step - loss: 0.3205 - accuracy: 0.8857 - val_loss: 0.3310 - val_accuracy: 0.8810\n",
      "Epoch 12/30\n",
      "1719/1719 [==============================] - 6s 3ms/step - loss: 0.3133 - accuracy: 0.8898 - val_loss: 0.3412 - val_accuracy: 0.8820\n",
      "Epoch 13/30\n",
      "1719/1719 [==============================] - 6s 3ms/step - loss: 0.3058 - accuracy: 0.8915 - val_loss: 0.3171 - val_accuracy: 0.8850\n",
      "Epoch 14/30\n",
      "1719/1719 [==============================] - 6s 3ms/step - loss: 0.2991 - accuracy: 0.8927 - val_loss: 0.3302 - val_accuracy: 0.8852\n",
      "Epoch 15/30\n",
      "1719/1719 [==============================] - 6s 3ms/step - loss: 0.2926 - accuracy: 0.8960 - val_loss: 0.3198 - val_accuracy: 0.8872\n",
      "Epoch 16/30\n",
      "1719/1719 [==============================] - 6s 3ms/step - loss: 0.2869 - accuracy: 0.8981 - val_loss: 0.3086 - val_accuracy: 0.8920\n",
      "Epoch 17/30\n",
      "1719/1719 [==============================] - 6s 3ms/step - loss: 0.2800 - accuracy: 0.8997 - val_loss: 0.3209 - val_accuracy: 0.8876\n",
      "Epoch 18/30\n",
      "1719/1719 [==============================] - 6s 3ms/step - loss: 0.2761 - accuracy: 0.9014 - val_loss: 0.3359 - val_accuracy: 0.8772\n",
      "Epoch 19/30\n",
      "1719/1719 [==============================] - 6s 3ms/step - loss: 0.2701 - accuracy: 0.9042 - val_loss: 0.3099 - val_accuracy: 0.8918\n",
      "Epoch 20/30\n",
      "1719/1719 [==============================] - 6s 3ms/step - loss: 0.2660 - accuracy: 0.9049 - val_loss: 0.3384 - val_accuracy: 0.8826\n",
      "Epoch 21/30\n",
      "1719/1719 [==============================] - 6s 3ms/step - loss: 0.2604 - accuracy: 0.9060 - val_loss: 0.3039 - val_accuracy: 0.8914\n",
      "Epoch 22/30\n",
      "1719/1719 [==============================] - 6s 3ms/step - loss: 0.2562 - accuracy: 0.9086 - val_loss: 0.3145 - val_accuracy: 0.8910\n",
      "Epoch 23/30\n",
      "1719/1719 [==============================] - 6s 3ms/step - loss: 0.2515 - accuracy: 0.9091 - val_loss: 0.3046 - val_accuracy: 0.8880\n",
      "Epoch 24/30\n",
      "1719/1719 [==============================] - 6s 3ms/step - loss: 0.2476 - accuracy: 0.9115 - val_loss: 0.2965 - val_accuracy: 0.8952\n",
      "Epoch 25/30\n",
      "1719/1719 [==============================] - 6s 3ms/step - loss: 0.2426 - accuracy: 0.9131 - val_loss: 0.3101 - val_accuracy: 0.8940\n",
      "Epoch 26/30\n",
      "1719/1719 [==============================] - 6s 3ms/step - loss: 0.2392 - accuracy: 0.9153 - val_loss: 0.2991 - val_accuracy: 0.8918\n",
      "Epoch 27/30\n",
      "1719/1719 [==============================] - 6s 3ms/step - loss: 0.2349 - accuracy: 0.9166 - val_loss: 0.2938 - val_accuracy: 0.8948\n",
      "Epoch 28/30\n",
      "1719/1719 [==============================] - 6s 3ms/step - loss: 0.2314 - accuracy: 0.9182 - val_loss: 0.2903 - val_accuracy: 0.8962\n",
      "Epoch 29/30\n",
      "1719/1719 [==============================] - 6s 3ms/step - loss: 0.2277 - accuracy: 0.9180 - val_loss: 0.2946 - val_accuracy: 0.8928\n",
      "Epoch 30/30\n",
      "1719/1719 [==============================] - 6s 3ms/step - loss: 0.2246 - accuracy: 0.9200 - val_loss: 0.2904 - val_accuracy: 0.8980\n"
     ]
    }
   ],
   "source": [
    "history = model.fit(X_train, y_train, epochs=30, validation_data=(X_valid, y_valid))"
   ]
  },
  {
   "cell_type": "code",
   "execution_count": 10,
   "metadata": {},
   "outputs": [
    {
     "data": {
      "image/png": "[encoded data removed]",
      "text/plain": [
       "<Figure size 576x360 with 1 Axes>"
      ]
     },
     "metadata": {
      "needs_background": "light"
     },
     "output_type": "display_data"
    }
   ],
   "source": [
    "import pandas as pd\n",
    "import matplotlib.pyplot as plt\n",
    "pd.DataFrame(history.history).plot(figsize=(8,5))\n",
    "plt.grid(True)\n",
    "plt.gca().set_ylim(0, 1)\n",
    "plt.show()"
   ]
  },
  {
   "cell_type": "code",
   "execution_count": 11,
   "metadata": {},
   "outputs": [
    {
     "name": "stdout",
     "output_type": "stream",
     "text": [
      "313/313 [==============================] - 1s 2ms/step - loss: 0.3276 - accuracy: 0.8857\n"
     ]
    },
    {
     "data": {
      "text/plain": [
       "[0.32755041122436523, 0.885699987411499]"
      ]
     },
     "execution_count": 11,
     "metadata": {},
     "output_type": "execute_result"
    }
   ],
   "source": [
    "model.evaluate(X_test, y_test)"
   ]
  },
  {
   "cell_type": "code",
   "execution_count": 12,
   "metadata": {},
   "outputs": [
    {
     "data": {
      "text/plain": [
       "array([[0.  , 0.  , 0.  , 0.  , 0.  , 0.  , 0.  , 0.03, 0.  , 0.97],\n",
       "       [0.  , 0.  , 1.  , 0.  , 0.  , 0.  , 0.  , 0.  , 0.  , 0.  ],\n",
       "       [0.  , 1.  , 0.  , 0.  , 0.  , 0.  , 0.  , 0.  , 0.  , 0.  ]],\n",
       "      dtype=float32)"
      ]
     },
     "execution_count": 12,
     "metadata": {},
     "output_type": "execute_result"
    }
   ],
   "source": [
    "# try out some predictions\n",
    "X_new = X_test[:3]\n",
    "y_proba = model.predict(X_new)\n",
    "y_proba.round(2)\n"
   ]
  },
  {
   "cell_type": "code",
   "execution_count": 13,
   "metadata": {},
   "outputs": [
    {
     "data": {
      "text/plain": [
       "array(['Ankle boot', 'Pullover', 'Trouser'], dtype='<U11')"
      ]
     },
     "execution_count": 13,
     "metadata": {},
     "output_type": "execute_result"
    }
   ],
   "source": [
    "y_pred = np.argmax(y_proba, axis=-1)\n",
    "np.array(class_names)[y_pred]"
   ]
  },
  {
   "cell_type": "code",
   "execution_count": 14,
   "metadata": {},
   "outputs": [],
   "source": [
    "from sklearn.datasets import fetch_california_housing\n",
    "from sklearn.model_selection import train_test_split\n",
    "from sklearn.preprocessing import StandardScaler\n",
    "\n",
    "housing = fetch_california_housing()\n",
    "X_train_full, X_test, y_train_full, y_test = train_test_split(housing.data, housing.target)\n",
    "X_train, X_valid, y_train, y_valid = train_test_split(X_train_full, y_train_full)\n",
    "\n",
    "scaler = StandardScaler()\n",
    "X_train = scaler.fit_transform(X_train)\n",
    "X_valid = scaler.transform(X_valid)\n",
    "X_test = scaler.transform(X_test)\n"
   ]
  },
  {
   "cell_type": "code",
   "execution_count": 15,
   "metadata": {},
   "outputs": [
    {
     "name": "stdout",
     "output_type": "stream",
     "text": [
      "Epoch 1/20\n",
      "363/363 [==============================] - 1s 1ms/step - loss: 0.7927 - val_loss: 3.9316\n",
      "Epoch 2/20\n",
      "363/363 [==============================] - 0s 1ms/step - loss: 0.8018 - val_loss: 0.5325\n",
      "Epoch 3/20\n",
      "363/363 [==============================] - 1s 2ms/step - loss: 0.4645 - val_loss: 0.5038\n",
      "Epoch 4/20\n",
      "363/363 [==============================] - 0s 1ms/step - loss: 0.4350 - val_loss: 0.4581\n",
      "Epoch 5/20\n",
      "363/363 [==============================] - 0s 1ms/step - loss: 0.4475 - val_loss: 0.4474\n",
      "Epoch 6/20\n",
      "363/363 [==============================] - 0s 1ms/step - loss: 0.4116 - val_loss: 0.4402\n",
      "Epoch 7/20\n",
      "363/363 [==============================] - 0s 1ms/step - loss: 0.4014 - val_loss: 0.4380\n",
      "Epoch 8/20\n",
      "363/363 [==============================] - 0s 1ms/step - loss: 0.4000 - val_loss: 0.4195\n",
      "Epoch 9/20\n",
      "363/363 [==============================] - 0s 1ms/step - loss: 0.3882 - val_loss: 0.4153\n",
      "Epoch 10/20\n",
      "363/363 [==============================] - 0s 1ms/step - loss: 0.3849 - val_loss: 0.4186\n",
      "Epoch 11/20\n",
      "363/363 [==============================] - 0s 1ms/step - loss: 0.3796 - val_loss: 0.4093\n",
      "Epoch 12/20\n",
      "363/363 [==============================] - 0s 1ms/step - loss: 0.3752 - val_loss: 0.4037\n",
      "Epoch 13/20\n",
      "363/363 [==============================] - 0s 1ms/step - loss: 0.3729 - val_loss: 0.4004\n",
      "Epoch 14/20\n",
      "363/363 [==============================] - 0s 1ms/step - loss: 0.3690 - val_loss: 0.3966\n",
      "Epoch 15/20\n",
      "363/363 [==============================] - 0s 1ms/step - loss: 0.3663 - val_loss: 0.4001\n",
      "Epoch 16/20\n",
      "363/363 [==============================] - 0s 1ms/step - loss: 0.3657 - val_loss: 0.4020\n",
      "Epoch 17/20\n",
      "363/363 [==============================] - 0s 1ms/step - loss: 0.3616 - val_loss: 0.3914\n",
      "Epoch 18/20\n",
      "363/363 [==============================] - 0s 1ms/step - loss: 0.3596 - val_loss: 0.3919\n",
      "Epoch 19/20\n",
      "363/363 [==============================] - 0s 1ms/step - loss: 0.3594 - val_loss: 0.3896\n",
      "Epoch 20/20\n",
      "363/363 [==============================] - 0s 1ms/step - loss: 0.3601 - val_loss: 0.4714\n",
      "162/162 [==============================] - 0s 946us/step - loss: 0.4011\n"
     ]
    }
   ],
   "source": [
    "model = keras.models.Sequential([\n",
    "    keras.layers.Dense(30, activation='relu', input_shape=X_train.shape[1:]),\n",
    "    keras.layers.Dense(1)\n",
    "])\n",
    "model.compile(loss='mean_squared_error', optimizer='sgd')\n",
    "history = model.fit(X_train, y_train, epochs=20, validation_data=(X_valid, y_valid))\n",
    "mse_test = model.evaluate(X_test, y_test)\n",
    "X_new = X_test[:3] # pretend these are new instances\n",
    "y_pred = model.predict(X_new)"
   ]
  },
  {
   "cell_type": "code",
   "execution_count": 16,
   "metadata": {},
   "outputs": [
    {
     "data": {
      "image/png": "[encoded data removed]",
      "text/plain": [
       "<Figure size 432x288 with 1 Axes>"
      ]
     },
     "metadata": {
      "needs_background": "light"
     },
     "output_type": "display_data"
    }
   ],
   "source": [
    "plt.plot(pd.DataFrame(history.history))\n",
    "plt.grid(True)\n",
    "plt.gca().set_ylim(0,1)\n",
    "plt.show()"
   ]
  },
  {
   "cell_type": "markdown",
   "metadata": {},
   "source": [
    "# Wide and Deep Neural Network with Functional API"
   ]
  },
  {
   "cell_type": "code",
   "execution_count": 17,
   "metadata": {},
   "outputs": [],
   "source": [
    "input_ = keras.layers.Input(shape=X_train.shape[1:])\n",
    "hidden1 = keras.layers.Dense(30, activation='relu')(input_)\n",
    "hidden2 = keras.layers.Dense(30, activation='relu')(hidden1)\n",
    "concat = keras.layers.Concatenate()([input_, hidden2])\n",
    "output = keras.layers.Dense(1)(concat)\n",
    "model = keras.Model(inputs=[input_], outputs=[output])"
   ]
  },
  {
   "cell_type": "code",
   "execution_count": 18,
   "metadata": {},
   "outputs": [
    {
     "name": "stdout",
     "output_type": "stream",
     "text": [
      "Epoch 1/20\n",
      "363/363 [==============================] - 1s 2ms/step - loss: 2.5755 - val_loss: 304.5009\n",
      "Epoch 2/20\n",
      "363/363 [==============================] - 1s 1ms/step - loss: 86.4787 - val_loss: 8021.8843\n",
      "Epoch 3/20\n",
      "363/363 [==============================] - 1s 1ms/step - loss: nan - val_loss: nan\n",
      "Epoch 4/20\n",
      "363/363 [==============================] - 1s 1ms/step - loss: nan - val_loss: nan\n",
      "Epoch 5/20\n",
      "363/363 [==============================] - 1s 1ms/step - loss: nan - val_loss: nan\n",
      "Epoch 6/20\n",
      "363/363 [==============================] - 1s 1ms/step - loss: nan - val_loss: nan\n",
      "Epoch 7/20\n",
      "363/363 [==============================] - 1s 1ms/step - loss: nan - val_loss: nan\n",
      "Epoch 8/20\n",
      "363/363 [==============================] - 1s 1ms/step - loss: nan - val_loss: nan\n",
      "Epoch 9/20\n",
      "363/363 [==============================] - 1s 1ms/step - loss: nan - val_loss: nan\n",
      "Epoch 10/20\n",
      "363/363 [==============================] - 0s 1ms/step - loss: nan - val_loss: nan\n",
      "Epoch 11/20\n",
      "363/363 [==============================] - 1s 1ms/step - loss: nan - val_loss: nan\n",
      "Epoch 12/20\n",
      "363/363 [==============================] - 1s 1ms/step - loss: nan - val_loss: nan\n",
      "Epoch 13/20\n",
      "363/363 [==============================] - 1s 1ms/step - loss: nan - val_loss: nan\n",
      "Epoch 14/20\n",
      "363/363 [==============================] - 1s 1ms/step - loss: nan - val_loss: nan\n",
      "Epoch 15/20\n",
      "363/363 [==============================] - 1s 1ms/step - loss: nan - val_loss: nan\n",
      "Epoch 16/20\n",
      "363/363 [==============================] - 1s 1ms/step - loss: nan - val_loss: nan\n",
      "Epoch 17/20\n",
      "363/363 [==============================] - 0s 1ms/step - loss: nan - val_loss: nan\n",
      "Epoch 18/20\n",
      "363/363 [==============================] - 1s 1ms/step - loss: nan - val_loss: nan\n",
      "Epoch 19/20\n",
      "363/363 [==============================] - 1s 1ms/step - loss: nan - val_loss: nan\n",
      "Epoch 20/20\n",
      "363/363 [==============================] - 1s 1ms/step - loss: nan - val_loss: nan\n",
      "162/162 [==============================] - 0s 1ms/step - loss: nan\n"
     ]
    }
   ],
   "source": [
    "# compile\n",
    "model.compile(loss='mean_squared_error', optimizer='sgd')\n",
    "\n",
    "# train\n",
    "history = model.fit(X_train, y_train, epochs=20, validation_data=(X_valid, y_valid))\n",
    "\n",
    "# evaluate\n",
    "mse_test = model.evaluate(X_test, y_test)\n",
    "\n",
    "\n",
    "# predict\n",
    "\n",
    "X_new = X_test[:3] # pretend these are new instances\n",
    "y_pred = model.predict(X_new)"
   ]
  },
  {
   "cell_type": "markdown",
   "metadata": {},
   "source": [
    "### that training diverged. \n",
    "\n",
    "# use multiple inputs instead"
   ]
  },
  {
   "cell_type": "code",
   "execution_count": 19,
   "metadata": {},
   "outputs": [],
   "source": [
    "input_A = keras.layers.Input(shape=[5], name='wide_input')\n",
    "input_B = keras.layers.Input(shape=[6], name='deep_input')\n",
    "hidden1 = keras.layers.Dense(30, activation='relu')(input_B)\n",
    "hidden2 = keras.layers.Dense(30, activation='relu')(hidden1)\n",
    "concat = keras.layers.concatenate([input_A, hidden2])\n",
    "output = keras.layers.Dense(1, name='output')(concat)\n",
    "model = keras.Model(inputs=[input_A, input_B], outputs=[output])"
   ]
  },
  {
   "cell_type": "code",
   "execution_count": 20,
   "metadata": {},
   "outputs": [
    {
     "name": "stderr",
     "output_type": "stream",
     "text": [
      "/home/soeren/.local/lib/python3.8/site-packages/keras/optimizer_v2/optimizer_v2.py:355: UserWarning: The `lr` argument is deprecated, use `learning_rate` instead.\n",
      "  warnings.warn(\n"
     ]
    },
    {
     "name": "stdout",
     "output_type": "stream",
     "text": [
      "Epoch 1/20\n",
      "363/363 [==============================] - 1s 2ms/step - loss: 1.7816 - val_loss: 0.8842\n",
      "Epoch 2/20\n",
      "363/363 [==============================] - 1s 1ms/step - loss: 0.7227 - val_loss: 0.6985\n",
      "Epoch 3/20\n",
      "363/363 [==============================] - 1s 2ms/step - loss: 0.6277 - val_loss: 0.6416\n",
      "Epoch 4/20\n",
      "363/363 [==============================] - 1s 1ms/step - loss: 0.5805 - val_loss: 0.6021\n",
      "Epoch 5/20\n",
      "363/363 [==============================] - 1s 1ms/step - loss: 0.5514 - val_loss: 0.5871\n",
      "Epoch 6/20\n",
      "363/363 [==============================] - 1s 1ms/step - loss: 0.5302 - val_loss: 0.5673\n",
      "Epoch 7/20\n",
      "363/363 [==============================] - 1s 1ms/step - loss: 0.5162 - val_loss: 0.5577\n",
      "Epoch 8/20\n",
      "363/363 [==============================] - 1s 1ms/step - loss: 0.5026 - val_loss: 0.5391\n",
      "Epoch 9/20\n",
      "363/363 [==============================] - 1s 1ms/step - loss: 0.4941 - val_loss: 0.5289\n",
      "Epoch 10/20\n",
      "363/363 [==============================] - 1s 1ms/step - loss: 0.4847 - val_loss: 0.5223\n",
      "Epoch 11/20\n",
      "363/363 [==============================] - 1s 1ms/step - loss: 0.4780 - val_loss: 0.5198\n",
      "Epoch 12/20\n",
      "363/363 [==============================] - 1s 1ms/step - loss: 0.4713 - val_loss: 0.5124\n",
      "Epoch 13/20\n",
      "363/363 [==============================] - 1s 1ms/step - loss: 0.4657 - val_loss: 0.5043\n",
      "Epoch 14/20\n",
      "363/363 [==============================] - 1s 1ms/step - loss: 0.4606 - val_loss: 0.4985\n",
      "Epoch 15/20\n",
      "363/363 [==============================] - 1s 1ms/step - loss: 0.4559 - val_loss: 0.4924\n",
      "Epoch 16/20\n",
      "363/363 [==============================] - 1s 2ms/step - loss: 0.4517 - val_loss: 0.4890\n",
      "Epoch 17/20\n",
      "363/363 [==============================] - 1s 1ms/step - loss: 0.4475 - val_loss: 0.4935\n",
      "Epoch 18/20\n",
      "363/363 [==============================] - 1s 1ms/step - loss: 0.4440 - val_loss: 0.4832\n",
      "Epoch 19/20\n",
      "363/363 [==============================] - 1s 1ms/step - loss: 0.4402 - val_loss: 0.4862\n",
      "Epoch 20/20\n",
      "363/363 [==============================] - 1s 1ms/step - loss: 0.4362 - val_loss: 0.4753\n",
      "162/162 [==============================] - 0s 875us/step - loss: 0.4723\n"
     ]
    }
   ],
   "source": [
    "model.compile(loss='mse', optimizer=keras.optimizers.SGD(lr=1e-3))\n",
    "\n",
    "X_train_A, X_train_B = X_train[:, :5], X_train[:, 2:]\n",
    "X_valid_A, X_valid_B = X_valid[:, :5], X_valid[:, 2:]\n",
    "X_test_A, X_test_B = X_test[:, :5], X_test[:, 2:]\n",
    "X_new_A, X_new_B = X_test_A[:3], X_test_B[:3]\n",
    "\n",
    "history = model.fit((X_train_A, X_train_B), y_train, epochs=20, validation_data=((X_valid_A, X_valid_B), y_valid))\n",
    "mse_test = model.evaluate((X_test_A, X_test_B), y_test)\n",
    "y_pred = model.predict((X_new_A, X_new_B))"
   ]
  },
  {
   "cell_type": "code",
   "execution_count": 21,
   "metadata": {},
   "outputs": [
    {
     "name": "stdout",
     "output_type": "stream",
     "text": [
      "Epoch 1/20\n",
      "363/363 [==============================] - 1s 2ms/step - loss: 0.9825 - main_output_loss: 0.8514 - auxiliary_output_loss: 2.1626 - val_loss: 0.7474 - val_main_output_loss: 0.6564 - val_auxiliary_output_loss: 1.5662\n",
      "Epoch 2/20\n",
      "363/363 [==============================] - 1s 2ms/step - loss: 0.5678 - main_output_loss: 0.4876 - auxiliary_output_loss: 1.2896 - val_loss: 0.8043 - val_main_output_loss: 0.7395 - val_auxiliary_output_loss: 1.3873\n",
      "Epoch 3/20\n",
      "363/363 [==============================] - 1s 2ms/step - loss: 0.5169 - main_output_loss: 0.4495 - auxiliary_output_loss: 1.1236 - val_loss: 0.5256 - val_main_output_loss: 0.4636 - val_auxiliary_output_loss: 1.0842\n",
      "Epoch 4/20\n",
      "363/363 [==============================] - 1s 2ms/step - loss: 0.4810 - main_output_loss: 0.4265 - auxiliary_output_loss: 0.9716 - val_loss: 0.5097 - val_main_output_loss: 0.4624 - val_auxiliary_output_loss: 0.9357\n",
      "Epoch 5/20\n",
      "363/363 [==============================] - 1s 2ms/step - loss: 0.4613 - main_output_loss: 0.4180 - auxiliary_output_loss: 0.8507 - val_loss: 0.4828 - val_main_output_loss: 0.4447 - val_auxiliary_output_loss: 0.8263\n",
      "Epoch 6/20\n",
      "363/363 [==============================] - 1s 2ms/step - loss: 0.4447 - main_output_loss: 0.4093 - auxiliary_output_loss: 0.7630 - val_loss: 0.4759 - val_main_output_loss: 0.4452 - val_auxiliary_output_loss: 0.7524\n",
      "Epoch 7/20\n",
      "363/363 [==============================] - 1s 2ms/step - loss: 0.4371 - main_output_loss: 0.4084 - auxiliary_output_loss: 0.6959 - val_loss: 0.4540 - val_main_output_loss: 0.4275 - val_auxiliary_output_loss: 0.6919\n",
      "Epoch 8/20\n",
      "363/363 [==============================] - 1s 2ms/step - loss: 0.4254 - main_output_loss: 0.3999 - auxiliary_output_loss: 0.6545 - val_loss: 0.4471 - val_main_output_loss: 0.4247 - val_auxiliary_output_loss: 0.6487\n",
      "Epoch 9/20\n",
      "363/363 [==============================] - 1s 2ms/step - loss: 0.4138 - main_output_loss: 0.3909 - auxiliary_output_loss: 0.6197 - val_loss: 0.4474 - val_main_output_loss: 0.4260 - val_auxiliary_output_loss: 0.6400\n",
      "Epoch 10/20\n",
      "363/363 [==============================] - 1s 2ms/step - loss: 0.4051 - main_output_loss: 0.3834 - auxiliary_output_loss: 0.6001 - val_loss: 0.4345 - val_main_output_loss: 0.4161 - val_auxiliary_output_loss: 0.6000\n",
      "Epoch 11/20\n",
      "363/363 [==============================] - 1s 2ms/step - loss: 0.3970 - main_output_loss: 0.3767 - auxiliary_output_loss: 0.5797 - val_loss: 0.4231 - val_main_output_loss: 0.4046 - val_auxiliary_output_loss: 0.5893\n",
      "Epoch 12/20\n",
      "363/363 [==============================] - 1s 2ms/step - loss: 0.3921 - main_output_loss: 0.3728 - auxiliary_output_loss: 0.5662 - val_loss: 0.4212 - val_main_output_loss: 0.4044 - val_auxiliary_output_loss: 0.5730\n",
      "Epoch 13/20\n",
      "363/363 [==============================] - 1s 2ms/step - loss: 0.3878 - main_output_loss: 0.3691 - auxiliary_output_loss: 0.5557 - val_loss: 0.4094 - val_main_output_loss: 0.3908 - val_auxiliary_output_loss: 0.5769\n",
      "Epoch 14/20\n",
      "363/363 [==============================] - 1s 2ms/step - loss: 0.3846 - main_output_loss: 0.3668 - auxiliary_output_loss: 0.5445 - val_loss: 0.4103 - val_main_output_loss: 0.3947 - val_auxiliary_output_loss: 0.5504\n",
      "Epoch 15/20\n",
      "363/363 [==============================] - 1s 2ms/step - loss: 0.3821 - main_output_loss: 0.3649 - auxiliary_output_loss: 0.5362 - val_loss: 0.4051 - val_main_output_loss: 0.3900 - val_auxiliary_output_loss: 0.5405\n",
      "Epoch 16/20\n",
      "363/363 [==============================] - 1s 2ms/step - loss: 0.3757 - main_output_loss: 0.3587 - auxiliary_output_loss: 0.5294 - val_loss: 0.4051 - val_main_output_loss: 0.3892 - val_auxiliary_output_loss: 0.5486\n",
      "Epoch 17/20\n",
      "363/363 [==============================] - 1s 2ms/step - loss: 0.3730 - main_output_loss: 0.3564 - auxiliary_output_loss: 0.5221 - val_loss: 0.4090 - val_main_output_loss: 0.3923 - val_auxiliary_output_loss: 0.5589\n",
      "Epoch 18/20\n",
      "363/363 [==============================] - 1s 2ms/step - loss: 0.3694 - main_output_loss: 0.3531 - auxiliary_output_loss: 0.5162 - val_loss: 0.4154 - val_main_output_loss: 0.4000 - val_auxiliary_output_loss: 0.5540\n",
      "Epoch 19/20\n",
      "363/363 [==============================] - 1s 2ms/step - loss: 0.3656 - main_output_loss: 0.3496 - auxiliary_output_loss: 0.5097 - val_loss: 0.3920 - val_main_output_loss: 0.3764 - val_auxiliary_output_loss: 0.5325\n",
      "Epoch 20/20\n",
      "363/363 [==============================] - 1s 2ms/step - loss: 0.3621 - main_output_loss: 0.3465 - auxiliary_output_loss: 0.5026 - val_loss: 0.3984 - val_main_output_loss: 0.3836 - val_auxiliary_output_loss: 0.5313\n",
      "162/162 [==============================] - 0s 1ms/step - loss: 0.3980 - main_output_loss: 0.3835 - auxiliary_output_loss: 0.5289\n",
      "WARNING:tensorflow:5 out of the last 5 calls to <function Model.make_predict_function.<locals>.predict_function at 0x7fe32ff0bd30> triggered tf.function retracing. Tracing is expensive and the excessive number of tracings could be due to (1) creating @tf.function repeatedly in a loop, (2) passing tensors with different shapes, (3) passing Python objects instead of tensors. For (1), please define your @tf.function outside of the loop. For (2), @tf.function has experimental_relax_shapes=True option that relaxes argument shapes that can avoid unnecessary retracing. For (3), please refer to https://www.tensorflow.org/guide/function#controlling_retracing and https://www.tensorflow.org/api_docs/python/tf/function for  more details.\n"
     ]
    }
   ],
   "source": [
    "# same model, but with auxiliary output for the deep part\n",
    "input_A = keras.layers.Input(shape=[5], name='wide_input')\n",
    "input_B = keras.layers.Input(shape=[6], name='deep_input')\n",
    "hidden1 = keras.layers.Dense(30, activation='relu')(input_B)\n",
    "hidden2 = keras.layers.Dense(30, activation='relu')(hidden1)\n",
    "concat = keras.layers.concatenate([input_A, hidden2])\n",
    "output = keras.layers.Dense(1, name='main_output')(concat)\n",
    "aux_output = keras.layers.Dense(1, name='auxiliary_output')(hidden2)\n",
    "model = keras.Model(inputs=[input_A, input_B], outputs=[output, aux_output])\n",
    "\n",
    "# multiple outputs means multiple loss functions - and weights for them!\n",
    "model.compile(loss=['mse', 'mse'], loss_weights=[0.9, 0.1], optimizer='sgd')\n",
    "\n",
    "history = model.fit([X_train_A, X_train_B], [y_train, y_train], epochs=20, validation_data=([X_valid_A, X_valid_B], [y_valid, y_valid]))\n",
    "\n",
    "total_loss, main_loss, aux_loss = model.evaluate([X_test_A, X_test_B], [y_test, y_test])\n",
    "\n",
    "y_pred_main, y_pred_aux = model.predict([X_new_A, X_new_B])"
   ]
  },
  {
   "cell_type": "markdown",
   "metadata": {},
   "source": [
    "# same model using subclassing API"
   ]
  },
  {
   "cell_type": "code",
   "execution_count": 22,
   "metadata": {},
   "outputs": [],
   "source": [
    "class WideAndDeepModel(keras.Model):\n",
    "    def __init__(self, units=30, activation='relu', **kwargs):\n",
    "        super().__init__(**kwargs) # handles standard args\n",
    "        self.hidden1 = keras.layers.Dense(units, activation=activation)\n",
    "        self.hidden2 = keras.layers.Dense(units, activation=activation)\n",
    "        self.main_output = keras.layers.Dense(1)\n",
    "        self.aux_output = keras.layers.Dense(1)\n",
    "\n",
    "    def call(self, inputs):\n",
    "        input_A, input_B = inputs\n",
    "        hidden1 = self.hidden1(input_B)\n",
    "        hidden2 = self.hidden2(hidden1)\n",
    "        concat = keras.layers.concatenate([input_A, hidden2])\n",
    "        main_output = self.main_output(concat)\n",
    "        aux_output = self.aux_output(hidden2)\n",
    "        return main_output, aux_output\n",
    "\n",
    "\n"
   ]
  },
  {
   "cell_type": "markdown",
   "metadata": {},
   "source": [
    "# Saving and Restoring a model"
   ]
  },
  {
   "cell_type": "code",
   "execution_count": 23,
   "metadata": {},
   "outputs": [],
   "source": [
    "# model.save(my_name)\n",
    "# model = keras.models.load_model(my_name)"
   ]
  },
  {
   "cell_type": "markdown",
   "metadata": {},
   "source": [
    "# Callbacks"
   ]
  },
  {
   "cell_type": "code",
   "execution_count": 24,
   "metadata": {},
   "outputs": [
    {
     "name": "stdout",
     "output_type": "stream",
     "text": [
      "Epoch 1/10\n",
      "363/363 [==============================] - 1s 2ms/step - loss: 0.9903 - main_output_loss: 0.8131 - auxiliary_output_loss: 2.5853 - val_loss: 0.9516 - val_main_output_loss: 0.8881 - val_auxiliary_output_loss: 1.5226\n",
      "Epoch 2/10\n",
      "363/363 [==============================] - 1s 2ms/step - loss: 0.5836 - main_output_loss: 0.5111 - auxiliary_output_loss: 1.2362 - val_loss: 0.5625 - val_main_output_loss: 0.4949 - val_auxiliary_output_loss: 1.1704\n",
      "Epoch 3/10\n",
      "363/363 [==============================] - 1s 2ms/step - loss: 0.5004 - main_output_loss: 0.4410 - auxiliary_output_loss: 1.0352 - val_loss: 0.5195 - val_main_output_loss: 0.4666 - val_auxiliary_output_loss: 0.9954\n",
      "Epoch 4/10\n",
      "363/363 [==============================] - 1s 2ms/step - loss: 0.4802 - main_output_loss: 0.4351 - auxiliary_output_loss: 0.8865 - val_loss: 0.4903 - val_main_output_loss: 0.4490 - val_auxiliary_output_loss: 0.8618\n",
      "Epoch 5/10\n",
      "363/363 [==============================] - 1s 2ms/step - loss: 0.4384 - main_output_loss: 0.4012 - auxiliary_output_loss: 0.7737 - val_loss: 0.4614 - val_main_output_loss: 0.4292 - val_auxiliary_output_loss: 0.7514\n",
      "Epoch 6/10\n",
      "363/363 [==============================] - 1s 2ms/step - loss: 0.4251 - main_output_loss: 0.3952 - auxiliary_output_loss: 0.6942 - val_loss: 0.4442 - val_main_output_loss: 0.4179 - val_auxiliary_output_loss: 0.6807\n",
      "Epoch 7/10\n",
      "363/363 [==============================] - 1s 2ms/step - loss: 0.4078 - main_output_loss: 0.3812 - auxiliary_output_loss: 0.6474 - val_loss: 0.4249 - val_main_output_loss: 0.4002 - val_auxiliary_output_loss: 0.6475\n",
      "Epoch 8/10\n",
      "363/363 [==============================] - 1s 2ms/step - loss: 0.3970 - main_output_loss: 0.3728 - auxiliary_output_loss: 0.6145 - val_loss: 0.4257 - val_main_output_loss: 0.4035 - val_auxiliary_output_loss: 0.6254\n",
      "Epoch 9/10\n",
      "363/363 [==============================] - 1s 2ms/step - loss: 0.3933 - main_output_loss: 0.3714 - auxiliary_output_loss: 0.5908 - val_loss: 0.4221 - val_main_output_loss: 0.3983 - val_auxiliary_output_loss: 0.6362\n",
      "Epoch 10/10\n",
      "363/363 [==============================] - 1s 2ms/step - loss: 0.3839 - main_output_loss: 0.3624 - auxiliary_output_loss: 0.5778 - val_loss: 0.4238 - val_main_output_loss: 0.4063 - val_auxiliary_output_loss: 0.5813\n"
     ]
    }
   ],
   "source": [
    "# build and compile model again\n",
    "input_A = keras.layers.Input(shape=[5], name='wide_input')\n",
    "input_B = keras.layers.Input(shape=[6], name='deep_input')\n",
    "hidden1 = keras.layers.Dense(30, activation='relu')(input_B)\n",
    "hidden2 = keras.layers.Dense(30, activation='relu')(hidden1)\n",
    "concat = keras.layers.concatenate([input_A, hidden2])\n",
    "output = keras.layers.Dense(1, name='main_output')(concat)\n",
    "aux_output = keras.layers.Dense(1, name='auxiliary_output')(hidden2)\n",
    "model = keras.Model(inputs=[input_A, input_B], outputs=[output, aux_output])\n",
    "\n",
    "# multiple outputs means multiple loss functions - and weights for them!\n",
    "model.compile(loss=['mse', 'mse'], loss_weights=[0.9, 0.1], optimizer='sgd')\n",
    "\n",
    "# callback, crude implementation of early stopping\n",
    "checkpoint_cb = keras.callbacks.ModelCheckpoint('my_keras_model.h5', save_best_only=True)\n",
    "history = model.fit([X_train_A, X_train_B], [y_train, y_train], epochs=10, validation_data=([X_valid_A, X_valid_B], [y_valid, y_valid]), callbacks=[checkpoint_cb])\n",
    "\n"
   ]
  },
  {
   "cell_type": "code",
   "execution_count": 25,
   "metadata": {},
   "outputs": [
    {
     "name": "stdout",
     "output_type": "stream",
     "text": [
      "Epoch 1/10\n",
      "363/363 [==============================] - 5s 13ms/step - loss: 0.3780 - main_output_loss: 0.3579 - auxiliary_output_loss: 0.5594 - val_loss: 0.4039 - val_main_output_loss: 0.3869 - val_auxiliary_output_loss: 0.5574\n",
      "Epoch 2/10\n",
      "363/363 [==============================] - 3s 7ms/step - loss: 0.3710 - main_output_loss: 0.3515 - auxiliary_output_loss: 0.5463 - val_loss: 0.4084 - val_main_output_loss: 0.3919 - val_auxiliary_output_loss: 0.5570\n",
      "Epoch 3/10\n",
      "363/363 [==============================] - 3s 7ms/step - loss: 0.3691 - main_output_loss: 0.3505 - auxiliary_output_loss: 0.5370 - val_loss: 0.3979 - val_main_output_loss: 0.3823 - val_auxiliary_output_loss: 0.5382\n",
      "Epoch 4/10\n",
      "363/363 [==============================] - 2s 5ms/step - loss: 0.3797 - main_output_loss: 0.3608 - auxiliary_output_loss: 0.5503 - val_loss: 0.4458 - val_main_output_loss: 0.4225 - val_auxiliary_output_loss: 0.6556\n",
      "Epoch 5/10\n",
      "363/363 [==============================] - 2s 5ms/step - loss: 0.3768 - main_output_loss: 0.3601 - auxiliary_output_loss: 0.5272 - val_loss: 0.3824 - val_main_output_loss: 0.3666 - val_auxiliary_output_loss: 0.5240\n",
      "Epoch 6/10\n",
      "363/363 [==============================] - 2s 5ms/step - loss: 0.3574 - main_output_loss: 0.3409 - auxiliary_output_loss: 0.5057 - val_loss: 0.3901 - val_main_output_loss: 0.3761 - val_auxiliary_output_loss: 0.5154\n",
      "Epoch 7/10\n",
      "363/363 [==============================] - 2s 5ms/step - loss: 0.3578 - main_output_loss: 0.3418 - auxiliary_output_loss: 0.5024 - val_loss: 0.3841 - val_main_output_loss: 0.3701 - val_auxiliary_output_loss: 0.5101\n",
      "Epoch 8/10\n",
      "363/363 [==============================] - 2s 5ms/step - loss: 0.3526 - main_output_loss: 0.3377 - auxiliary_output_loss: 0.4866 - val_loss: 0.3756 - val_main_output_loss: 0.3619 - val_auxiliary_output_loss: 0.4991\n",
      "Epoch 9/10\n",
      "363/363 [==============================] - 2s 5ms/step - loss: 0.3472 - main_output_loss: 0.3322 - auxiliary_output_loss: 0.4817 - val_loss: 0.3778 - val_main_output_loss: 0.3654 - val_auxiliary_output_loss: 0.4888\n",
      "Epoch 10/10\n",
      "363/363 [==============================] - 2s 5ms/step - loss: 0.3463 - main_output_loss: 0.3317 - auxiliary_output_loss: 0.4774 - val_loss: 0.3790 - val_main_output_loss: 0.3650 - val_auxiliary_output_loss: 0.5056\n"
     ]
    }
   ],
   "source": [
    "# use the official early stopping callback\n",
    "early_stopping_cb = keras.callbacks.EarlyStopping(patience=10, restore_best_weights=True)\n",
    "history = model.fit([X_train_A, X_train_B], [y_train, y_train], epochs=10, validation_data=([X_valid_A, X_valid_B], [y_valid, y_valid]), callbacks=[checkpoint_cb, early_stopping_cb])"
   ]
  },
  {
   "cell_type": "code",
   "execution_count": 26,
   "metadata": {},
   "outputs": [],
   "source": [
    "# build a custom callback\n",
    "class PrintValTrainRatioCallback(keras.callbacks.Callback):\n",
    "    def on_epoch_end(self, epoch, logs):\n",
    "        print('\\nval/train: {:.2f}'.format(logs['val_loss'] / logs['loss']))"
   ]
  },
  {
   "cell_type": "markdown",
   "metadata": {},
   "source": [
    "# Using Tensorboard to visualize the training"
   ]
  },
  {
   "cell_type": "code",
   "execution_count": 28,
   "metadata": {},
   "outputs": [
    {
     "name": "stdout",
     "output_type": "stream",
     "text": [
      "Epoch 1/30\n",
      "363/363 [==============================] - 8s 15ms/step - loss: 1.1465 - main_output_loss: 1.0236 - auxiliary_output_loss: 2.2532 - val_loss: 1.0424 - val_main_output_loss: 1.0079 - val_auxiliary_output_loss: 1.3524\n",
      "Epoch 2/30\n",
      "363/363 [==============================] - 5s 13ms/step - loss: 0.5958 - main_output_loss: 0.5388 - auxiliary_output_loss: 1.1092 - val_loss: 0.5664 - val_main_output_loss: 0.5103 - val_auxiliary_output_loss: 1.0711\n",
      "Epoch 3/30\n",
      "363/363 [==============================] - 4s 12ms/step - loss: 0.5075 - main_output_loss: 0.4601 - auxiliary_output_loss: 0.9335 - val_loss: 0.5311 - val_main_output_loss: 0.4883 - val_auxiliary_output_loss: 0.9158\n",
      "Epoch 4/30\n",
      "363/363 [==============================] - 4s 10ms/step - loss: 0.4792 - main_output_loss: 0.4418 - auxiliary_output_loss: 0.8153 - val_loss: 0.5020 - val_main_output_loss: 0.4663 - val_auxiliary_output_loss: 0.8237\n",
      "Epoch 5/30\n",
      "363/363 [==============================] - 4s 11ms/step - loss: 0.4523 - main_output_loss: 0.4202 - auxiliary_output_loss: 0.7412 - val_loss: 0.4836 - val_main_output_loss: 0.4535 - val_auxiliary_output_loss: 0.7551\n",
      "Epoch 6/30\n",
      "363/363 [==============================] - 4s 10ms/step - loss: 0.4370 - main_output_loss: 0.4090 - auxiliary_output_loss: 0.6886 - val_loss: 0.4590 - val_main_output_loss: 0.4325 - val_auxiliary_output_loss: 0.6978\n",
      "Epoch 7/30\n",
      "363/363 [==============================] - 4s 10ms/step - loss: 0.4261 - main_output_loss: 0.4009 - auxiliary_output_loss: 0.6526 - val_loss: 0.4500 - val_main_output_loss: 0.4254 - val_auxiliary_output_loss: 0.6713\n",
      "Epoch 8/30\n",
      "363/363 [==============================] - 3s 8ms/step - loss: 0.4182 - main_output_loss: 0.3953 - auxiliary_output_loss: 0.6243 - val_loss: 0.4384 - val_main_output_loss: 0.4165 - val_auxiliary_output_loss: 0.6361\n",
      "Epoch 9/30\n",
      "363/363 [==============================] - 2s 7ms/step - loss: 0.4063 - main_output_loss: 0.3844 - auxiliary_output_loss: 0.6034 - val_loss: 0.4491 - val_main_output_loss: 0.4294 - val_auxiliary_output_loss: 0.6273\n",
      "Epoch 10/30\n",
      "363/363 [==============================] - 2s 6ms/step - loss: 0.4020 - main_output_loss: 0.3813 - auxiliary_output_loss: 0.5878 - val_loss: 0.4284 - val_main_output_loss: 0.4081 - val_auxiliary_output_loss: 0.6106\n",
      "Epoch 11/30\n",
      "363/363 [==============================] - 2s 6ms/step - loss: 0.3942 - main_output_loss: 0.3748 - auxiliary_output_loss: 0.5687 - val_loss: 0.4255 - val_main_output_loss: 0.4077 - val_auxiliary_output_loss: 0.5860\n",
      "Epoch 12/30\n",
      "363/363 [==============================] - 2s 5ms/step - loss: 0.4051 - main_output_loss: 0.3886 - auxiliary_output_loss: 0.5539 - val_loss: 0.4304 - val_main_output_loss: 0.4155 - val_auxiliary_output_loss: 0.5653\n",
      "Epoch 13/30\n",
      "363/363 [==============================] - 2s 6ms/step - loss: 0.3854 - main_output_loss: 0.3679 - auxiliary_output_loss: 0.5433 - val_loss: 0.4172 - val_main_output_loss: 0.4023 - val_auxiliary_output_loss: 0.5510\n",
      "Epoch 14/30\n",
      "363/363 [==============================] - 2s 6ms/step - loss: 0.3762 - main_output_loss: 0.3592 - auxiliary_output_loss: 0.5297 - val_loss: 0.3997 - val_main_output_loss: 0.3842 - val_auxiliary_output_loss: 0.5385\n",
      "Epoch 15/30\n",
      "363/363 [==============================] - 1s 4ms/step - loss: 0.3682 - main_output_loss: 0.3515 - auxiliary_output_loss: 0.5187 - val_loss: 0.4231 - val_main_output_loss: 0.4103 - val_auxiliary_output_loss: 0.5381\n",
      "Epoch 16/30\n",
      "363/363 [==============================] - 1s 4ms/step - loss: 0.3692 - main_output_loss: 0.3535 - auxiliary_output_loss: 0.5112 - val_loss: 0.3947 - val_main_output_loss: 0.3819 - val_auxiliary_output_loss: 0.5099\n",
      "Epoch 17/30\n",
      "363/363 [==============================] - 1s 4ms/step - loss: 0.3611 - main_output_loss: 0.3457 - auxiliary_output_loss: 0.5003 - val_loss: 0.4045 - val_main_output_loss: 0.3918 - val_auxiliary_output_loss: 0.5194\n",
      "Epoch 18/30\n",
      "363/363 [==============================] - 1s 4ms/step - loss: 0.3556 - main_output_loss: 0.3404 - auxiliary_output_loss: 0.4920 - val_loss: 0.3809 - val_main_output_loss: 0.3671 - val_auxiliary_output_loss: 0.5052\n",
      "Epoch 19/30\n",
      "363/363 [==============================] - 1s 4ms/step - loss: 0.3552 - main_output_loss: 0.3409 - auxiliary_output_loss: 0.4841 - val_loss: 0.3853 - val_main_output_loss: 0.3741 - val_auxiliary_output_loss: 0.4865\n",
      "Epoch 20/30\n",
      "363/363 [==============================] - 1s 4ms/step - loss: 0.3578 - main_output_loss: 0.3446 - auxiliary_output_loss: 0.4770 - val_loss: 0.3733 - val_main_output_loss: 0.3618 - val_auxiliary_output_loss: 0.4768\n",
      "Epoch 21/30\n",
      "363/363 [==============================] - 1s 4ms/step - loss: 0.3469 - main_output_loss: 0.3333 - auxiliary_output_loss: 0.4697 - val_loss: 0.3945 - val_main_output_loss: 0.3861 - val_auxiliary_output_loss: 0.4701\n",
      "Epoch 22/30\n",
      "363/363 [==============================] - 1s 4ms/step - loss: 0.3446 - main_output_loss: 0.3314 - auxiliary_output_loss: 0.4640 - val_loss: 0.3748 - val_main_output_loss: 0.3640 - val_auxiliary_output_loss: 0.4722\n",
      "Epoch 23/30\n",
      "363/363 [==============================] - 1s 4ms/step - loss: 0.3415 - main_output_loss: 0.3287 - auxiliary_output_loss: 0.4569 - val_loss: 0.3676 - val_main_output_loss: 0.3571 - val_auxiliary_output_loss: 0.4618\n",
      "Epoch 24/30\n",
      "363/363 [==============================] - 1s 4ms/step - loss: 0.3407 - main_output_loss: 0.3284 - auxiliary_output_loss: 0.4512 - val_loss: 0.3619 - val_main_output_loss: 0.3518 - val_auxiliary_output_loss: 0.4529\n",
      "Epoch 25/30\n",
      "363/363 [==============================] - 1s 4ms/step - loss: 0.3368 - main_output_loss: 0.3245 - auxiliary_output_loss: 0.4475 - val_loss: 0.3611 - val_main_output_loss: 0.3511 - val_auxiliary_output_loss: 0.4515\n",
      "Epoch 26/30\n",
      "363/363 [==============================] - 1s 4ms/step - loss: 0.3336 - main_output_loss: 0.3213 - auxiliary_output_loss: 0.4446 - val_loss: 0.3623 - val_main_output_loss: 0.3528 - val_auxiliary_output_loss: 0.4480\n",
      "Epoch 27/30\n",
      "363/363 [==============================] - 1s 4ms/step - loss: 0.3322 - main_output_loss: 0.3202 - auxiliary_output_loss: 0.4401 - val_loss: 0.3612 - val_main_output_loss: 0.3515 - val_auxiliary_output_loss: 0.4487\n",
      "Epoch 28/30\n",
      "363/363 [==============================] - 1s 4ms/step - loss: 0.3316 - main_output_loss: 0.3197 - auxiliary_output_loss: 0.4394 - val_loss: 0.3602 - val_main_output_loss: 0.3506 - val_auxiliary_output_loss: 0.4468\n",
      "Epoch 29/30\n",
      "363/363 [==============================] - 1s 4ms/step - loss: 0.3293 - main_output_loss: 0.3176 - auxiliary_output_loss: 0.4344 - val_loss: 0.3729 - val_main_output_loss: 0.3644 - val_auxiliary_output_loss: 0.4498\n",
      "Epoch 30/30\n",
      "363/363 [==============================] - 1s 4ms/step - loss: 0.3306 - main_output_loss: 0.3195 - auxiliary_output_loss: 0.4305 - val_loss: 0.3564 - val_main_output_loss: 0.3471 - val_auxiliary_output_loss: 0.4396\n"
     ]
    }
   ],
   "source": [
    "import os\n",
    "root_logdir = os.path.join(os.curdir, 'my_logs')\n",
    "\n",
    "def get_run_logdir():\n",
    "    import time\n",
    "    run_id = time.strftime('run_%Y_%m_%d-%H_%M_%S')\n",
    "    return os.path.join(root_logdir, run_id)\n",
    "\n",
    "run_logdir = get_run_logdir()\n",
    "\n",
    "\n",
    "# build and compile model again\n",
    "input_A = keras.layers.Input(shape=[5], name='wide_input')\n",
    "input_B = keras.layers.Input(shape=[6], name='deep_input')\n",
    "hidden1 = keras.layers.Dense(30, activation='relu')(input_B)\n",
    "hidden2 = keras.layers.Dense(30, activation='relu')(hidden1)\n",
    "concat = keras.layers.concatenate([input_A, hidden2])\n",
    "output = keras.layers.Dense(1, name='main_output')(concat)\n",
    "aux_output = keras.layers.Dense(1, name='auxiliary_output')(hidden2)\n",
    "model = keras.Model(inputs=[input_A, input_B], outputs=[output, aux_output])\n",
    "\n",
    "# multiple outputs means multiple loss functions - and weights for them!\n",
    "model.compile(loss=['mse', 'mse'], loss_weights=[0.9, 0.1], optimizer='sgd')\n",
    "\n",
    "tensorboard_cb = keras.callbacks.TensorBoard(run_logdir)\n",
    "history = model.fit([X_train_A, X_train_B], [y_train, y_train], epochs=30, validation_data=([X_valid_A, X_valid_B], [y_valid, y_valid]), callbacks=[tensorboard_cb])"
   ]
  },
  {
   "cell_type": "markdown",
   "metadata": {},
   "source": [
    "### using tf.summary for custom logging"
   ]
  },
  {
   "cell_type": "code",
   "execution_count": 29,
   "metadata": {},
   "outputs": [],
   "source": [
    "test_logdir = get_run_logdir()\n",
    "writer = tf.summary.create_file_writer(test_logdir)\n",
    "with writer.as_default():\n",
    "    for step in range(1, 1000 + 1):\n",
    "        tf.summary.scalar('my_scalar', np.sin(step / 10), step=10)\n",
    "        data = (np.random.randn(100) + 2) * step / 100 # some random data\n",
    "        tf.summary.histogram('my_hist', data, buckets=50, step=step)\n",
    "        images = np.random.rand(2, 32, 32, 3) # random 32x32 RGB images\n",
    "        tf.summary.image('my_images', images * step / 1000, step=step)\n",
    "        texts = ['The step is ' + str(step), 'Its square is ' + str(step**2)]\n",
    "        tf.summary.text('my_text', texts, step=step)\n",
    "        sine_wave = tf.math.sin(tf.range(12000) / 48000 * 2 * np.pi * step)\n",
    "        audio = tf.reshape(tf.cast(sine_wave, tf.float32), [1, -1, 1])\n",
    "        tf.summary.audio('my_audio', audio, sample_rate=48000, step=step) "
   ]
  },
  {
   "cell_type": "markdown",
   "metadata": {},
   "source": [
    "# Hyperparameter Tuning"
   ]
  },
  {
   "cell_type": "code",
   "execution_count": 30,
   "metadata": {},
   "outputs": [
    {
     "name": "stderr",
     "output_type": "stream",
     "text": [
      "/home/soeren/.local/lib/python3.8/site-packages/keras/optimizer_v2/optimizer_v2.py:355: UserWarning: The `lr` argument is deprecated, use `learning_rate` instead.\n",
      "  warnings.warn(\n"
     ]
    },
    {
     "name": "stdout",
     "output_type": "stream",
     "text": [
      "Epoch 1/100\n",
      "363/363 [==============================] - 4s 8ms/step - loss: 1.0756 - val_loss: 0.8153\n",
      "Epoch 2/100\n",
      "363/363 [==============================] - 3s 8ms/step - loss: 0.6197 - val_loss: 0.6195\n",
      "Epoch 3/100\n",
      "363/363 [==============================] - 2s 7ms/step - loss: 0.5429 - val_loss: 0.5610\n",
      "Epoch 4/100\n",
      "363/363 [==============================] - 2s 6ms/step - loss: 0.4938 - val_loss: 0.5159\n",
      "Epoch 5/100\n",
      "363/363 [==============================] - 3s 8ms/step - loss: 0.4677 - val_loss: 0.5046\n",
      "Epoch 6/100\n",
      "363/363 [==============================] - 3s 8ms/step - loss: 0.4533 - val_loss: 0.4841\n",
      "Epoch 7/100\n",
      "363/363 [==============================] - 3s 7ms/step - loss: 0.4440 - val_loss: 0.4779\n",
      "Epoch 8/100\n",
      "363/363 [==============================] - 3s 8ms/step - loss: 0.4371 - val_loss: 0.4766\n",
      "Epoch 9/100\n",
      "363/363 [==============================] - 2s 7ms/step - loss: 0.4312 - val_loss: 0.4829\n",
      "Epoch 10/100\n",
      "363/363 [==============================] - 2s 6ms/step - loss: 0.4294 - val_loss: 0.4669\n",
      "Epoch 11/100\n",
      "363/363 [==============================] - 2s 6ms/step - loss: 0.4221 - val_loss: 0.4612\n",
      "Epoch 12/100\n",
      "363/363 [==============================] - 3s 7ms/step - loss: 0.4170 - val_loss: 0.4618\n",
      "Epoch 13/100\n",
      "363/363 [==============================] - 3s 7ms/step - loss: 0.4127 - val_loss: 0.4513\n",
      "Epoch 14/100\n",
      "363/363 [==============================] - 2s 7ms/step - loss: 0.4097 - val_loss: 0.4540\n",
      "Epoch 15/100\n",
      "363/363 [==============================] - 2s 6ms/step - loss: 0.4064 - val_loss: 0.4499\n",
      "Epoch 16/100\n",
      "363/363 [==============================] - 2s 5ms/step - loss: 0.4031 - val_loss: 0.4456\n",
      "Epoch 17/100\n",
      "363/363 [==============================] - 2s 5ms/step - loss: 0.4002 - val_loss: 0.4490\n",
      "Epoch 18/100\n",
      "363/363 [==============================] - 2s 5ms/step - loss: 0.3979 - val_loss: 0.4388\n",
      "Epoch 19/100\n",
      "363/363 [==============================] - 2s 6ms/step - loss: 0.3951 - val_loss: 0.4360\n",
      "Epoch 20/100\n",
      "363/363 [==============================] - 2s 6ms/step - loss: 0.3911 - val_loss: 0.4324\n",
      "Epoch 21/100\n",
      "363/363 [==============================] - 2s 5ms/step - loss: 0.3882 - val_loss: 0.4308\n",
      "Epoch 22/100\n",
      "363/363 [==============================] - 2s 5ms/step - loss: 0.3863 - val_loss: 0.4318\n",
      "Epoch 23/100\n",
      "363/363 [==============================] - 2s 6ms/step - loss: 0.3838 - val_loss: 0.4265\n",
      "Epoch 24/100\n",
      "363/363 [==============================] - 2s 5ms/step - loss: 0.3831 - val_loss: 0.4230\n",
      "Epoch 25/100\n",
      "363/363 [==============================] - 2s 5ms/step - loss: 0.3810 - val_loss: 0.4250\n",
      "Epoch 26/100\n",
      "363/363 [==============================] - 2s 5ms/step - loss: 0.3802 - val_loss: 0.4201\n",
      "Epoch 27/100\n",
      "363/363 [==============================] - 2s 5ms/step - loss: 0.3780 - val_loss: 0.4231\n",
      "Epoch 28/100\n",
      "363/363 [==============================] - 2s 4ms/step - loss: 0.3760 - val_loss: 0.4203\n",
      "Epoch 29/100\n",
      "363/363 [==============================] - 2s 4ms/step - loss: 0.3748 - val_loss: 0.4156\n",
      "Epoch 30/100\n",
      "363/363 [==============================] - 1s 4ms/step - loss: 0.3743 - val_loss: 0.4201\n",
      "Epoch 31/100\n",
      "363/363 [==============================] - 1s 4ms/step - loss: 0.3725 - val_loss: 0.4165\n",
      "Epoch 32/100\n",
      "363/363 [==============================] - 1s 4ms/step - loss: 0.3709 - val_loss: 0.4196\n",
      "Epoch 33/100\n",
      "363/363 [==============================] - 2s 5ms/step - loss: 0.3701 - val_loss: 0.4124\n",
      "Epoch 34/100\n",
      "363/363 [==============================] - 2s 6ms/step - loss: 0.3688 - val_loss: 0.4154\n",
      "Epoch 35/100\n",
      "363/363 [==============================] - 2s 5ms/step - loss: 0.3691 - val_loss: 0.4123\n",
      "Epoch 36/100\n",
      "363/363 [==============================] - 1s 4ms/step - loss: 0.3669 - val_loss: 0.4104\n",
      "Epoch 37/100\n",
      "363/363 [==============================] - 1s 4ms/step - loss: 0.3659 - val_loss: 0.4106\n",
      "Epoch 38/100\n",
      "363/363 [==============================] - 2s 5ms/step - loss: 0.3649 - val_loss: 0.4081\n",
      "Epoch 39/100\n",
      "363/363 [==============================] - 2s 5ms/step - loss: 0.3649 - val_loss: 0.4062\n",
      "Epoch 40/100\n",
      "363/363 [==============================] - 2s 5ms/step - loss: 0.3632 - val_loss: 0.4032\n",
      "Epoch 41/100\n",
      "363/363 [==============================] - 2s 4ms/step - loss: 0.3630 - val_loss: 0.4059\n",
      "Epoch 42/100\n",
      "363/363 [==============================] - 2s 5ms/step - loss: 0.3627 - val_loss: 0.4077\n",
      "Epoch 43/100\n",
      "363/363 [==============================] - 2s 6ms/step - loss: 0.3611 - val_loss: 0.4070\n",
      "Epoch 44/100\n",
      "363/363 [==============================] - 2s 5ms/step - loss: 0.3595 - val_loss: 0.4028\n",
      "Epoch 45/100\n",
      "363/363 [==============================] - 2s 6ms/step - loss: 0.3598 - val_loss: 0.4042\n",
      "Epoch 46/100\n",
      "363/363 [==============================] - 2s 6ms/step - loss: 0.3594 - val_loss: 0.4012\n",
      "Epoch 47/100\n",
      "363/363 [==============================] - 1s 4ms/step - loss: 0.3580 - val_loss: 0.4040\n",
      "Epoch 48/100\n",
      "363/363 [==============================] - 2s 5ms/step - loss: 0.3596 - val_loss: 0.4031\n",
      "Epoch 49/100\n",
      "363/363 [==============================] - 2s 6ms/step - loss: 0.3583 - val_loss: 0.4020\n",
      "Epoch 50/100\n",
      "363/363 [==============================] - 2s 5ms/step - loss: 0.3551 - val_loss: 0.3967\n",
      "Epoch 51/100\n",
      "363/363 [==============================] - 2s 5ms/step - loss: 0.3554 - val_loss: 0.3960\n",
      "Epoch 52/100\n",
      "363/363 [==============================] - 2s 6ms/step - loss: 0.3534 - val_loss: 0.3991\n",
      "Epoch 53/100\n",
      "363/363 [==============================] - 2s 6ms/step - loss: 0.3537 - val_loss: 0.4007\n",
      "Epoch 54/100\n",
      "363/363 [==============================] - 3s 7ms/step - loss: 0.3527 - val_loss: 0.3937\n",
      "Epoch 55/100\n",
      "363/363 [==============================] - 2s 6ms/step - loss: 0.3517 - val_loss: 0.3974\n",
      "Epoch 56/100\n",
      "363/363 [==============================] - 2s 5ms/step - loss: 0.3525 - val_loss: 0.4026\n",
      "Epoch 57/100\n",
      "363/363 [==============================] - 3s 7ms/step - loss: 0.3512 - val_loss: 0.3910\n",
      "Epoch 58/100\n",
      "363/363 [==============================] - 3s 7ms/step - loss: 0.3520 - val_loss: 0.3963\n",
      "Epoch 59/100\n",
      "363/363 [==============================] - 2s 6ms/step - loss: 0.3490 - val_loss: 0.3922\n",
      "Epoch 60/100\n",
      "363/363 [==============================] - 2s 6ms/step - loss: 0.3502 - val_loss: 0.3917\n",
      "Epoch 61/100\n",
      "363/363 [==============================] - 2s 4ms/step - loss: 0.3497 - val_loss: 0.3920\n",
      "Epoch 62/100\n",
      "363/363 [==============================] - 2s 5ms/step - loss: 0.3484 - val_loss: 0.4005\n",
      "Epoch 63/100\n",
      "363/363 [==============================] - 2s 5ms/step - loss: 0.3460 - val_loss: 0.3882\n",
      "Epoch 64/100\n",
      "363/363 [==============================] - 1s 4ms/step - loss: 0.3468 - val_loss: 0.3925\n",
      "Epoch 65/100\n",
      "363/363 [==============================] - 1s 3ms/step - loss: 0.3455 - val_loss: 0.3954\n",
      "Epoch 66/100\n",
      "363/363 [==============================] - 1s 4ms/step - loss: 0.3447 - val_loss: 0.3922\n",
      "Epoch 67/100\n",
      "363/363 [==============================] - 2s 5ms/step - loss: 0.3443 - val_loss: 0.3950\n",
      "Epoch 68/100\n",
      "363/363 [==============================] - 1s 4ms/step - loss: 0.3439 - val_loss: 0.3912\n",
      "Epoch 69/100\n",
      "363/363 [==============================] - 1s 4ms/step - loss: 0.3449 - val_loss: 0.3896\n",
      "Epoch 70/100\n",
      "363/363 [==============================] - 3s 7ms/step - loss: 0.3437 - val_loss: 0.3941\n",
      "Epoch 71/100\n",
      "363/363 [==============================] - 2s 6ms/step - loss: 0.3444 - val_loss: 0.3939\n",
      "Epoch 72/100\n",
      "363/363 [==============================] - 2s 6ms/step - loss: 0.3436 - val_loss: 0.3957\n",
      "Epoch 73/100\n",
      "363/363 [==============================] - 3s 8ms/step - loss: 0.3437 - val_loss: 0.3968\n",
      "162/162 [==============================] - 1s 4ms/step - loss: 0.3653\n",
      "WARNING:tensorflow:6 out of the last 6 calls to <function Model.make_predict_function.<locals>.predict_function at 0x7fe330985550> triggered tf.function retracing. Tracing is expensive and the excessive number of tracings could be due to (1) creating @tf.function repeatedly in a loop, (2) passing tensors with different shapes, (3) passing Python objects instead of tensors. For (1), please define your @tf.function outside of the loop. For (2), @tf.function has experimental_relax_shapes=True option that relaxes argument shapes that can avoid unnecessary retracing. For (3), please refer to https://www.tensorflow.org/guide/function#controlling_retracing and https://www.tensorflow.org/api_docs/python/tf/function for  more details.\n"
     ]
    }
   ],
   "source": [
    "def build_model(n_hidden=1, n_neurons=30, learning_rate=3e-3, input_shape=[8]):\n",
    "    model = keras.models.Sequential()\n",
    "    model.add(keras.layers.InputLayer(input_shape=input_shape))\n",
    "    for layer in range(n_hidden):\n",
    "        model.add(keras.layers.Dense(n_neurons, activation='relu'))\n",
    "    model.add(keras.layers.Dense(1))\n",
    "    optimizer = keras.optimizers.SGD(lr=learning_rate)\n",
    "    model.compile(loss='mse', optimizer=optimizer)\n",
    "    return model\n",
    "\n",
    "# use a wrapper for that model\n",
    "keras_reg = keras.wrappers.scikit_learn.KerasRegressor(build_model)\n",
    "\n",
    "keras_reg.fit(X_train, y_train, epochs=100, validation_data=(X_valid, y_valid), callbacks=[keras.callbacks.EarlyStopping(patience=10)])\n",
    "mse_test = keras_reg.score(X_test, y_test)\n",
    "y_pred = keras_reg.predict(X_new)\n"
   ]
  },
  {
   "cell_type": "code",
   "execution_count": null,
   "metadata": {},
   "outputs": [],
   "source": [
    "from scipy.stats import reciprocal\n",
    "from sklearn.model_selection import RandomizedSearchCV\n",
    "\n",
    "param_distribs = {'n_hidden': [0, 1, 2, 3], 'n_neurons': np.arange(1, 100), 'learning_rate': reciprocal(3e-4, 3e-2)}\n",
    "\n",
    "rnd_search_cv = RandomizedSearchCV(keras_reg, param_distribs, n_iter=10, cv=3)\n",
    "rnd_search_cv.fit(X_train, y_train, epochs=100, validation_data=(X_valid, y_valid), callbacks=[keras.callbacks.EarlyStopping(patience=10)])"
   ]
  },
  {
   "cell_type": "code",
   "execution_count": null,
   "metadata": {},
   "outputs": [],
   "source": []
  }
 ],
 "metadata": {
  "interpreter": {
   "hash": "916dbcbb3f70747c44a77c7bcd40155683ae19c65e1c03b4aa3499c5328201f1"
  },
  "kernelspec": {
   "display_name": "Python 3.8.10 64-bit",
   "name": "python3"
  },
  "language_info": {
   "codemirror_mode": {
    "name": "ipython",
    "version": 3
   },
   "file_extension": ".py",
   "mimetype": "text/x-python",
   "name": "python",
   "nbconvert_exporter": "python",
   "pygments_lexer": "ipython3",
   "version": "3.8.10"
  },
  "orig_nbformat": 4
 },
 "nbformat": 4,
 "nbformat_minor": 2
}
