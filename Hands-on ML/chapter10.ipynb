{
 "cells": [
  {
   "cell_type": "code",
   "execution_count": 1,
   "metadata": {},
   "outputs": [
    {
     "name": "stderr",
     "output_type": "stream",
     "text": [
      "<ipython-input-1-90417624ad18>:7: DeprecationWarning: `np.int` is a deprecated alias for the builtin `int`. To silence this warning, use `int` by itself. Doing this will not modify any behavior and is safe. When replacing `np.int`, you may wish to use e.g. `np.int64` or `np.int32` to specify the precision. If you wish to review your current use, check the release note link for additional information.\n",
      "Deprecated in NumPy 1.20; for more details and guidance: https://numpy.org/devdocs/release/1.20.0-notes.html#deprecations\n",
      "  y = (iris.target == 0).astype(np.int) # iris setosa?\n"
     ]
    }
   ],
   "source": [
    "import numpy as np\n",
    "from sklearn.datasets import load_iris\n",
    "from sklearn.linear_model import Perceptron\n",
    "\n",
    "iris = load_iris()\n",
    "X = iris.data[:, (2,3)] # petal length, petal width\n",
    "y = (iris.target == 0).astype(np.int) # iris setosa?\n",
    "\n",
    "per_clf = Perceptron()\n",
    "per_clf.fit(X, y)\n",
    "\n",
    "y_pred = per_clf.predict([[2, 0.5]])"
   ]
  },
  {
   "cell_type": "markdown",
   "metadata": {},
   "source": [
    "# Use Keras API"
   ]
  },
  {
   "cell_type": "code",
   "execution_count": 2,
   "metadata": {},
   "outputs": [
    {
     "name": "stdout",
     "output_type": "stream",
     "text": [
      "Downloading data from https://storage.googleapis.com/tensorflow/tf-keras-datasets/train-labels-idx1-ubyte.gz\n",
      "32768/29515 [=================================] - 0s 1us/step\n",
      "40960/29515 [=========================================] - 0s 1us/step\n",
      "Downloading data from https://storage.googleapis.com/tensorflow/tf-keras-datasets/train-images-idx3-ubyte.gz\n",
      "26427392/26421880 [==============================] - 1s 0us/step\n",
      "26435584/26421880 [==============================] - 1s 0us/step\n",
      "Downloading data from https://storage.googleapis.com/tensorflow/tf-keras-datasets/t10k-labels-idx1-ubyte.gz\n",
      "16384/5148 [===============================================================================================] - 0s 0us/step\n",
      "Downloading data from https://storage.googleapis.com/tensorflow/tf-keras-datasets/t10k-images-idx3-ubyte.gz\n",
      "4423680/4422102 [==============================] - 0s 0us/step\n",
      "4431872/4422102 [==============================] - 0s 0us/step\n"
     ]
    }
   ],
   "source": [
    "import tensorflow as tf\n",
    "from tensorflow import keras\n",
    "\n",
    "fashion_mnist = keras.datasets.fashion_mnist\n",
    "(X_train_full, y_train_full), (X_test, y_test) = fashion_mnist.load_data()"
   ]
  },
  {
   "cell_type": "code",
   "execution_count": 3,
   "metadata": {},
   "outputs": [
    {
     "data": {
      "text/plain": [
       "(60000, 28, 28)"
      ]
     },
     "execution_count": 3,
     "metadata": {},
     "output_type": "execute_result"
    }
   ],
   "source": [
    "X_train_full.shape"
   ]
  },
  {
   "cell_type": "code",
   "execution_count": 4,
   "metadata": {},
   "outputs": [],
   "source": [
    "X_valid, X_train = X_train_full[:5000] / 255.0, X_train_full[5000:] / 255.0\n",
    "y_valid, y_train = y_train_full[:5000], y_train_full[5000:]\n",
    "X_test = X_test / 255.0"
   ]
  },
  {
   "cell_type": "code",
   "execution_count": 5,
   "metadata": {},
   "outputs": [
    {
     "data": {
      "text/plain": [
       "'Coat'"
      ]
     },
     "execution_count": 5,
     "metadata": {},
     "output_type": "execute_result"
    }
   ],
   "source": [
    "class_names = ['T-shirt/top', 'Trouser', 'Pullover', 'Dress', 'Coat', 'Sandal', 'Shirt', 'Sneaker', 'Bag', 'Ankle boot']\n",
    "class_names[y_train[0]]"
   ]
  },
  {
   "cell_type": "code",
   "execution_count": null,
   "metadata": {},
   "outputs": [],
   "source": [
    "# build the model\n",
    "model = keras.models.Sequential()\n",
    "model.add(keras.layers.Flatten(input_shape=[28, 28]))\n",
    "model.add(keras.layers.Dense(300, activation='relu'))\n",
    "model.add(keras.layers.Dense(100, activation='relu'))\n",
    "model.add(keras.layers.Dense(10, activation='softmax'))"
   ]
  },
  {
   "cell_type": "code",
   "execution_count": 8,
   "metadata": {},
   "outputs": [
    {
     "name": "stdout",
     "output_type": "stream",
     "text": [
      "Model: \"sequential_2\"\n",
      "_________________________________________________________________\n",
      "Layer (type)                 Output Shape              Param #   \n",
      "=================================================================\n",
      "flatten_2 (Flatten)          (None, 784)               0         \n",
      "_________________________________________________________________\n",
      "dense_6 (Dense)              (None, 300)               235500    \n",
      "_________________________________________________________________\n",
      "dense_7 (Dense)              (None, 100)               30100     \n",
      "_________________________________________________________________\n",
      "dense_8 (Dense)              (None, 10)                1010      \n",
      "=================================================================\n",
      "Total params: 266,610\n",
      "Trainable params: 266,610\n",
      "Non-trainable params: 0\n",
      "_________________________________________________________________\n"
     ]
    }
   ],
   "source": [
    "# equivalent way by passing all layers during creation\n",
    "model = keras.models.Sequential([\n",
    "keras.layers.Flatten(input_shape=[28, 28]),\n",
    "keras.layers.Dense(300, activation='relu'), \n",
    "keras.layers.Dense(100, activation='relu'), \n",
    "keras.layers.Dense(10, activation='softmax')])\n",
    "#keras.utils.plot_model(model)\n",
    "model.summary()"
   ]
  },
  {
   "cell_type": "code",
   "execution_count": 9,
   "metadata": {},
   "outputs": [],
   "source": [
    "model.compile(loss='sparse_categorical_crossentropy', optimizer='sgd', metrics=['accuracy']) #sparse categorical because we have sparse labels (only the index of the class, rather than a one-hot encoding)"
   ]
  },
  {
   "cell_type": "markdown",
   "metadata": {},
   "source": [
    "## training and evaluating the model"
   ]
  },
  {
   "cell_type": "code",
   "execution_count": 10,
   "metadata": {},
   "outputs": [
    {
     "name": "stdout",
     "output_type": "stream",
     "text": [
      "Epoch 1/30\n",
      "1719/1719 [==============================] - 26s 14ms/step - loss: 0.7151 - accuracy: 0.7662 - val_loss: 0.5096 - val_accuracy: 0.8254\n",
      "Epoch 2/30\n",
      "1719/1719 [==============================] - 24s 14ms/step - loss: 0.4864 - accuracy: 0.8307 - val_loss: 0.4342 - val_accuracy: 0.8556\n",
      "Epoch 3/30\n",
      "1719/1719 [==============================] - 24s 14ms/step - loss: 0.4431 - accuracy: 0.8461 - val_loss: 0.4212 - val_accuracy: 0.8524\n",
      "Epoch 4/30\n",
      "1719/1719 [==============================] - 24s 14ms/step - loss: 0.4169 - accuracy: 0.8536 - val_loss: 0.4062 - val_accuracy: 0.8592\n",
      "Epoch 5/30\n",
      "1719/1719 [==============================] - 24s 14ms/step - loss: 0.3953 - accuracy: 0.8607 - val_loss: 0.4147 - val_accuracy: 0.8544\n",
      "Epoch 6/30\n",
      "1719/1719 [==============================] - 24s 14ms/step - loss: 0.3794 - accuracy: 0.8673 - val_loss: 0.4018 - val_accuracy: 0.8524\n",
      "Epoch 7/30\n",
      "1719/1719 [==============================] - 24s 14ms/step - loss: 0.3653 - accuracy: 0.8706 - val_loss: 0.4102 - val_accuracy: 0.8544\n",
      "Epoch 8/30\n",
      "1719/1719 [==============================] - 24s 14ms/step - loss: 0.3533 - accuracy: 0.8739 - val_loss: 0.3759 - val_accuracy: 0.8658\n",
      "Epoch 9/30\n",
      "1719/1719 [==============================] - 24s 14ms/step - loss: 0.3434 - accuracy: 0.8769 - val_loss: 0.3698 - val_accuracy: 0.8676\n",
      "Epoch 10/30\n",
      "1719/1719 [==============================] - 24s 14ms/step - loss: 0.3341 - accuracy: 0.8805 - val_loss: 0.3566 - val_accuracy: 0.8762\n",
      "Epoch 11/30\n",
      "1719/1719 [==============================] - 25s 14ms/step - loss: 0.3242 - accuracy: 0.8840 - val_loss: 0.3381 - val_accuracy: 0.8818\n",
      "Epoch 12/30\n",
      "1719/1719 [==============================] - 24s 14ms/step - loss: 0.3177 - accuracy: 0.8857 - val_loss: 0.3304 - val_accuracy: 0.8838\n",
      "Epoch 13/30\n",
      "1719/1719 [==============================] - 25s 14ms/step - loss: 0.3097 - accuracy: 0.8887 - val_loss: 0.3300 - val_accuracy: 0.8816\n",
      "Epoch 14/30\n",
      "1719/1719 [==============================] - 24s 14ms/step - loss: 0.3029 - accuracy: 0.8905 - val_loss: 0.3193 - val_accuracy: 0.8856\n",
      "Epoch 15/30\n",
      "1719/1719 [==============================] - 22s 13ms/step - loss: 0.2959 - accuracy: 0.8941 - val_loss: 0.3400 - val_accuracy: 0.8796\n",
      "Epoch 16/30\n",
      "1719/1719 [==============================] - 10s 6ms/step - loss: 0.2896 - accuracy: 0.8950 - val_loss: 0.3289 - val_accuracy: 0.8838\n",
      "Epoch 17/30\n",
      "1719/1719 [==============================] - 9s 5ms/step - loss: 0.2835 - accuracy: 0.8977 - val_loss: 0.3298 - val_accuracy: 0.8830\n",
      "Epoch 18/30\n",
      "1719/1719 [==============================] - 9s 5ms/step - loss: 0.2786 - accuracy: 0.9004 - val_loss: 0.3360 - val_accuracy: 0.8730\n",
      "Epoch 19/30\n",
      "1719/1719 [==============================] - 9s 5ms/step - loss: 0.2728 - accuracy: 0.9018 - val_loss: 0.3078 - val_accuracy: 0.8878\n",
      "Epoch 20/30\n",
      "1719/1719 [==============================] - 9s 5ms/step - loss: 0.2681 - accuracy: 0.9030 - val_loss: 0.3092 - val_accuracy: 0.8904\n",
      "Epoch 21/30\n",
      "1719/1719 [==============================] - 9s 5ms/step - loss: 0.2632 - accuracy: 0.9044 - val_loss: 0.3057 - val_accuracy: 0.8918\n",
      "Epoch 22/30\n",
      "1719/1719 [==============================] - 9s 5ms/step - loss: 0.2583 - accuracy: 0.9074 - val_loss: 0.3100 - val_accuracy: 0.8878\n",
      "Epoch 23/30\n",
      "1719/1719 [==============================] - 9s 5ms/step - loss: 0.2541 - accuracy: 0.9084 - val_loss: 0.3105 - val_accuracy: 0.8848\n",
      "Epoch 24/30\n",
      "1719/1719 [==============================] - 9s 6ms/step - loss: 0.2500 - accuracy: 0.9102 - val_loss: 0.3094 - val_accuracy: 0.8910\n",
      "Epoch 25/30\n",
      "1719/1719 [==============================] - 9s 5ms/step - loss: 0.2459 - accuracy: 0.9106 - val_loss: 0.3180 - val_accuracy: 0.8866\n",
      "Epoch 26/30\n",
      "1719/1719 [==============================] - 9s 5ms/step - loss: 0.2409 - accuracy: 0.9128 - val_loss: 0.3130 - val_accuracy: 0.8890\n",
      "Epoch 27/30\n",
      "1719/1719 [==============================] - 9s 5ms/step - loss: 0.2366 - accuracy: 0.9147 - val_loss: 0.2985 - val_accuracy: 0.8896\n",
      "Epoch 28/30\n",
      "1719/1719 [==============================] - 9s 5ms/step - loss: 0.2336 - accuracy: 0.9157 - val_loss: 0.3105 - val_accuracy: 0.8878\n",
      "Epoch 29/30\n",
      "1719/1719 [==============================] - 9s 5ms/step - loss: 0.2296 - accuracy: 0.9181 - val_loss: 0.2944 - val_accuracy: 0.8946\n",
      "Epoch 30/30\n",
      "1719/1719 [==============================] - 9s 5ms/step - loss: 0.2249 - accuracy: 0.9189 - val_loss: 0.2925 - val_accuracy: 0.8924\n"
     ]
    }
   ],
   "source": [
    "history = model.fit(X_train, y_train, epochs=30, validation_data=(X_valid, y_valid))"
   ]
  },
  {
   "cell_type": "code",
   "execution_count": 11,
   "metadata": {},
   "outputs": [
    {
     "data": {
      "image/png": "[encoded data removed]",
      "text/plain": [
       "<Figure size 576x360 with 1 Axes>"
      ]
     },
     "metadata": {
      "needs_background": "light"
     },
     "output_type": "display_data"
    }
   ],
   "source": [
    "import pandas as pd\n",
    "import matplotlib.pyplot as plt\n",
    "pd.DataFrame(history.history).plot(figsize=(8,5))\n",
    "plt.grid(True)\n",
    "plt.gca().set_ylim(0, 1)\n",
    "plt.show()"
   ]
  },
  {
   "cell_type": "code",
   "execution_count": 12,
   "metadata": {},
   "outputs": [
    {
     "name": "stdout",
     "output_type": "stream",
     "text": [
      "313/313 [==============================] - 3s 8ms/step - loss: 0.3238 - accuracy: 0.8824\n"
     ]
    },
    {
     "data": {
      "text/plain": [
       "[0.3238089084625244, 0.8823999762535095]"
      ]
     },
     "execution_count": 12,
     "metadata": {},
     "output_type": "execute_result"
    }
   ],
   "source": [
    "model.evaluate(X_test, y_test)"
   ]
  },
  {
   "cell_type": "code",
   "execution_count": 13,
   "metadata": {},
   "outputs": [
    {
     "data": {
      "text/plain": [
       "array([[0.  , 0.  , 0.  , 0.  , 0.  , 0.  , 0.  , 0.02, 0.  , 0.98],\n",
       "       [0.  , 0.  , 0.98, 0.  , 0.02, 0.  , 0.  , 0.  , 0.  , 0.  ],\n",
       "       [0.  , 1.  , 0.  , 0.  , 0.  , 0.  , 0.  , 0.  , 0.  , 0.  ]],\n",
       "      dtype=float32)"
      ]
     },
     "execution_count": 13,
     "metadata": {},
     "output_type": "execute_result"
    }
   ],
   "source": [
    "# try out some predictions\n",
    "X_new = X_test[:3]\n",
    "y_proba = model.predict(X_new)\n",
    "y_proba.round(2)\n"
   ]
  },
  {
   "cell_type": "code",
   "execution_count": 16,
   "metadata": {},
   "outputs": [
    {
     "data": {
      "text/plain": [
       "array(['Ankle boot', 'Pullover', 'Trouser'], dtype='<U11')"
      ]
     },
     "execution_count": 16,
     "metadata": {},
     "output_type": "execute_result"
    }
   ],
   "source": [
    "y_pred = np.argmax(y_proba, axis=-1)\n",
    "np.array(class_names)[y_pred]"
   ]
  },
  {
   "cell_type": "code",
   "execution_count": 17,
   "metadata": {},
   "outputs": [],
   "source": [
    "from sklearn.datasets import fetch_california_housing\n",
    "from sklearn.model_selection import train_test_split\n",
    "from sklearn.preprocessing import StandardScaler\n",
    "\n",
    "housing = fetch_california_housing()\n",
    "X_train_full, X_test, y_train_full, y_test = train_test_split(housing.data, housing.target)\n",
    "X_train, X_valid, y_train, y_valid = train_test_split(X_train_full, y_train_full)\n",
    "\n",
    "scaler = StandardScaler()\n",
    "X_train = scaler.fit_transform(X_train)\n",
    "X_valid = scaler.transform(X_valid)\n",
    "X_test = scaler.transform(X_test)\n"
   ]
  },
  {
   "cell_type": "code",
   "execution_count": 18,
   "metadata": {},
   "outputs": [
    {
     "name": "stdout",
     "output_type": "stream",
     "text": [
      "Epoch 1/20\n",
      "363/363 [==============================] - 4s 9ms/step - loss: 1.6793 - val_loss: 0.5824\n",
      "Epoch 2/20\n",
      "363/363 [==============================] - 3s 8ms/step - loss: 0.4814 - val_loss: 0.4510\n",
      "Epoch 3/20\n",
      "363/363 [==============================] - 3s 8ms/step - loss: 0.4505 - val_loss: 0.4910\n",
      "Epoch 4/20\n",
      "363/363 [==============================] - 3s 8ms/step - loss: 0.6193 - val_loss: 0.4692\n",
      "Epoch 5/20\n",
      "363/363 [==============================] - 3s 8ms/step - loss: 0.4426 - val_loss: 0.4386\n",
      "Epoch 6/20\n",
      "363/363 [==============================] - 3s 8ms/step - loss: 0.4244 - val_loss: 0.4216\n",
      "Epoch 7/20\n",
      "363/363 [==============================] - 3s 7ms/step - loss: 0.4084 - val_loss: 0.4091\n",
      "Epoch 8/20\n",
      "363/363 [==============================] - 3s 7ms/step - loss: 0.4024 - val_loss: 0.4045\n",
      "Epoch 9/20\n",
      "363/363 [==============================] - 3s 8ms/step - loss: 0.3950 - val_loss: 0.4017\n",
      "Epoch 10/20\n",
      "363/363 [==============================] - 3s 8ms/step - loss: 0.3931 - val_loss: 0.3979\n",
      "Epoch 11/20\n",
      "363/363 [==============================] - 3s 8ms/step - loss: 0.3931 - val_loss: 0.3901\n",
      "Epoch 12/20\n",
      "363/363 [==============================] - 3s 8ms/step - loss: 0.3846 - val_loss: 0.3913\n",
      "Epoch 13/20\n",
      "363/363 [==============================] - 3s 8ms/step - loss: 0.3836 - val_loss: 0.3858\n",
      "Epoch 14/20\n",
      "363/363 [==============================] - 3s 7ms/step - loss: 0.3805 - val_loss: 0.3890\n",
      "Epoch 15/20\n",
      "363/363 [==============================] - 3s 8ms/step - loss: 0.3794 - val_loss: 0.3863\n",
      "Epoch 16/20\n",
      "363/363 [==============================] - 1s 4ms/step - loss: 0.3763 - val_loss: 0.3837\n",
      "Epoch 17/20\n",
      "363/363 [==============================] - 1s 3ms/step - loss: 0.3756 - val_loss: 0.3833\n",
      "Epoch 18/20\n",
      "363/363 [==============================] - 1s 3ms/step - loss: 0.3799 - val_loss: 0.3932\n",
      "Epoch 19/20\n",
      "363/363 [==============================] - 1s 3ms/step - loss: 0.3724 - val_loss: 0.3781\n",
      "Epoch 20/20\n",
      "363/363 [==============================] - 1s 3ms/step - loss: 0.3676 - val_loss: 0.3888\n",
      "162/162 [==============================] - 0s 2ms/step - loss: 0.3776\n"
     ]
    }
   ],
   "source": [
    "model = keras.models.Sequential([\n",
    "    keras.layers.Dense(30, activation='relu', input_shape=X_train.shape[1:]),\n",
    "    keras.layers.Dense(1)\n",
    "])\n",
    "model.compile(loss='mean_squared_error', optimizer='sgd')\n",
    "history = model.fit(X_train, y_train, epochs=20, validation_data=(X_valid, y_valid))\n",
    "mse_test = model.evaluate(X_test, y_test)\n",
    "X_new = X_test[:3] # pretend these are new instances\n",
    "y_pred = model.predict(X_new)"
   ]
  },
  {
   "cell_type": "code",
   "execution_count": 19,
   "metadata": {},
   "outputs": [
    {
     "data": {
      "image/png": "[encoded data removed]",
      "text/plain": [
       "<Figure size 432x288 with 1 Axes>"
      ]
     },
     "metadata": {
      "needs_background": "light"
     },
     "output_type": "display_data"
    }
   ],
   "source": [
    "plt.plot(pd.DataFrame(history.history))\n",
    "plt.grid(True)\n",
    "plt.gca().set_ylim(0,1)\n",
    "plt.show()"
   ]
  }
 ],
 "metadata": {
  "interpreter": {
   "hash": "916dbcbb3f70747c44a77c7bcd40155683ae19c65e1c03b4aa3499c5328201f1"
  },
  "kernelspec": {
   "display_name": "Python 3.8.10 64-bit",
   "name": "python3"
  },
  "language_info": {
   "codemirror_mode": {
    "name": "ipython",
    "version": 3
   },
   "file_extension": ".py",
   "mimetype": "text/x-python",
   "name": "python",
   "nbconvert_exporter": "python",
   "pygments_lexer": "ipython3",
   "version": "3.8.10"
  },
  "orig_nbformat": 4
 },
 "nbformat": 4,
 "nbformat_minor": 2
}
