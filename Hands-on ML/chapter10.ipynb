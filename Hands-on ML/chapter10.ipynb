{
 "cells": [
  {
   "cell_type": "code",
   "execution_count": 2,
   "metadata": {},
   "outputs": [],
   "source": [
    "import numpy as np\n",
    "from sklearn.datasets import load_iris\n",
    "from sklearn.linear_model import Perceptron\n",
    "\n",
    "iris = load_iris()\n",
    "X = iris.data[:, (2,3)] # petal length, petal width\n",
    "y = (iris.target == 0).astype(np.int) # iris setosa?\n",
    "\n",
    "per_clf = Perceptron()\n",
    "per_clf.fit(X, y)\n",
    "\n",
    "y_pred = per_clf.predict([[2, 0.5]])"
   ]
  },
  {
   "cell_type": "markdown",
   "metadata": {},
   "source": [
    "# Use Keras API"
   ]
  },
  {
   "cell_type": "code",
   "execution_count": 3,
   "metadata": {},
   "outputs": [],
   "source": [
    "import tensorflow as tf\n",
    "from tensorflow import keras\n",
    "\n",
    "fashion_mnist = keras.datasets.fashion_mnist\n",
    "(X_train_full, y_train_full), (X_test, y_test) = fashion_mnist.load_data()"
   ]
  },
  {
   "cell_type": "code",
   "execution_count": 4,
   "metadata": {},
   "outputs": [
    {
     "data": {
      "text/plain": [
       "(60000, 28, 28)"
      ]
     },
     "execution_count": 4,
     "metadata": {},
     "output_type": "execute_result"
    }
   ],
   "source": [
    "X_train_full.shape"
   ]
  },
  {
   "cell_type": "code",
   "execution_count": 5,
   "metadata": {},
   "outputs": [],
   "source": [
    "X_valid, X_train = X_train_full[:5000] / 255.0, X_train_full[5000:] / 255.0\n",
    "y_valid, y_train = y_train_full[:5000], y_train_full[5000:]\n",
    "X_test = X_test / 255.0"
   ]
  },
  {
   "cell_type": "code",
   "execution_count": 6,
   "metadata": {},
   "outputs": [
    {
     "data": {
      "text/plain": [
       "'Coat'"
      ]
     },
     "execution_count": 6,
     "metadata": {},
     "output_type": "execute_result"
    }
   ],
   "source": [
    "class_names = ['T-shirt/top', 'Trouser', 'Pullover', 'Dress', 'Coat', 'Sandal', 'Shirt', 'Sneaker', 'Bag', 'Ankle boot']\n",
    "class_names[y_train[0]]"
   ]
  },
  {
   "cell_type": "code",
   "execution_count": 7,
   "metadata": {},
   "outputs": [],
   "source": [
    "# build the model\n",
    "model = keras.models.Sequential()\n",
    "model.add(keras.layers.Flatten(input_shape=[28, 28]))\n",
    "model.add(keras.layers.Dense(300, activation='relu'))\n",
    "model.add(keras.layers.Dense(100, activation='relu'))\n",
    "model.add(keras.layers.Dense(10, activation='softmax'))"
   ]
  },
  {
   "cell_type": "code",
   "execution_count": 8,
   "metadata": {},
   "outputs": [
    {
     "name": "stdout",
     "output_type": "stream",
     "text": [
      "Model: \"sequential_1\"\n",
      "_________________________________________________________________\n",
      "Layer (type)                 Output Shape              Param #   \n",
      "=================================================================\n",
      "flatten_1 (Flatten)          (None, 784)               0         \n",
      "_________________________________________________________________\n",
      "dense_3 (Dense)              (None, 300)               235500    \n",
      "_________________________________________________________________\n",
      "dense_4 (Dense)              (None, 100)               30100     \n",
      "_________________________________________________________________\n",
      "dense_5 (Dense)              (None, 10)                1010      \n",
      "=================================================================\n",
      "Total params: 266,610\n",
      "Trainable params: 266,610\n",
      "Non-trainable params: 0\n",
      "_________________________________________________________________\n"
     ]
    }
   ],
   "source": [
    "# equivalent way by passing all layers during creation\n",
    "model = keras.models.Sequential([\n",
    "keras.layers.Flatten(input_shape=[28, 28]),\n",
    "keras.layers.Dense(300, activation='relu'), \n",
    "keras.layers.Dense(100, activation='relu'), \n",
    "keras.layers.Dense(10, activation='softmax')])\n",
    "#keras.utils.plot_model(model)\n",
    "model.summary()"
   ]
  },
  {
   "cell_type": "code",
   "execution_count": 9,
   "metadata": {},
   "outputs": [],
   "source": [
    "model.compile(loss='sparse_categorical_crossentropy', optimizer='sgd', metrics=['accuracy']) #sparse categorical because we have sparse labels (only the index of the class, rather than a one-hot encoding)"
   ]
  },
  {
   "cell_type": "markdown",
   "metadata": {},
   "source": [
    "## training and evaluating the model"
   ]
  },
  {
   "cell_type": "code",
   "execution_count": 10,
   "metadata": {},
   "outputs": [
    {
     "name": "stdout",
     "output_type": "stream",
     "text": [
      "Epoch 1/30\n",
      "1719/1719 [==============================] - 20s 11ms/step - loss: 0.7162 - accuracy: 0.7629 - val_loss: 0.5071 - val_accuracy: 0.8284\n",
      "Epoch 2/30\n",
      "1719/1719 [==============================] - 15s 9ms/step - loss: 0.4886 - accuracy: 0.8282 - val_loss: 0.4443 - val_accuracy: 0.8496\n",
      "Epoch 3/30\n",
      "1719/1719 [==============================] - 17s 10ms/step - loss: 0.4441 - accuracy: 0.8453 - val_loss: 0.4208 - val_accuracy: 0.8554\n",
      "Epoch 4/30\n",
      "1719/1719 [==============================] - 8s 5ms/step - loss: 0.4169 - accuracy: 0.8534 - val_loss: 0.4079 - val_accuracy: 0.8630\n",
      "Epoch 5/30\n",
      "1719/1719 [==============================] - 16s 9ms/step - loss: 0.3963 - accuracy: 0.8609 - val_loss: 0.3889 - val_accuracy: 0.8674\n",
      "Epoch 6/30\n",
      "1719/1719 [==============================] - 24s 14ms/step - loss: 0.3799 - accuracy: 0.8663 - val_loss: 0.3782 - val_accuracy: 0.8688\n",
      "Epoch 7/30\n",
      "1719/1719 [==============================] - 24s 14ms/step - loss: 0.3652 - accuracy: 0.8717 - val_loss: 0.3635 - val_accuracy: 0.8730\n",
      "Epoch 8/30\n",
      "1719/1719 [==============================] - 23s 14ms/step - loss: 0.3545 - accuracy: 0.8750 - val_loss: 0.3615 - val_accuracy: 0.8732\n",
      "Epoch 9/30\n",
      "1719/1719 [==============================] - 24s 14ms/step - loss: 0.3438 - accuracy: 0.8783 - val_loss: 0.3498 - val_accuracy: 0.8832\n",
      "Epoch 10/30\n",
      "1719/1719 [==============================] - 24s 14ms/step - loss: 0.3345 - accuracy: 0.8805 - val_loss: 0.3509 - val_accuracy: 0.8760\n",
      "Epoch 11/30\n",
      "1719/1719 [==============================] - 24s 14ms/step - loss: 0.3258 - accuracy: 0.8843 - val_loss: 0.3365 - val_accuracy: 0.8786\n",
      "Epoch 12/30\n",
      "1719/1719 [==============================] - 25s 15ms/step - loss: 0.3182 - accuracy: 0.8871 - val_loss: 0.3255 - val_accuracy: 0.8854\n",
      "Epoch 13/30\n",
      "1719/1719 [==============================] - 26s 15ms/step - loss: 0.3112 - accuracy: 0.8886 - val_loss: 0.3305 - val_accuracy: 0.8856\n",
      "Epoch 14/30\n",
      "1719/1719 [==============================] - 24s 14ms/step - loss: 0.3038 - accuracy: 0.8919 - val_loss: 0.3278 - val_accuracy: 0.8858\n",
      "Epoch 15/30\n",
      "1719/1719 [==============================] - 27s 16ms/step - loss: 0.2974 - accuracy: 0.8939 - val_loss: 0.3133 - val_accuracy: 0.8898\n",
      "Epoch 16/30\n",
      "1719/1719 [==============================] - 24s 14ms/step - loss: 0.2911 - accuracy: 0.8957 - val_loss: 0.3214 - val_accuracy: 0.8874\n",
      "Epoch 17/30\n",
      "1719/1719 [==============================] - 24s 14ms/step - loss: 0.2846 - accuracy: 0.8983 - val_loss: 0.3185 - val_accuracy: 0.8854\n",
      "Epoch 18/30\n",
      "1719/1719 [==============================] - 24s 14ms/step - loss: 0.2798 - accuracy: 0.9001 - val_loss: 0.3060 - val_accuracy: 0.8892\n",
      "Epoch 19/30\n",
      "1719/1719 [==============================] - 21s 12ms/step - loss: 0.2736 - accuracy: 0.9014 - val_loss: 0.3035 - val_accuracy: 0.8890\n",
      "Epoch 20/30\n",
      "1719/1719 [==============================] - 27s 16ms/step - loss: 0.2693 - accuracy: 0.9038 - val_loss: 0.3134 - val_accuracy: 0.8870\n",
      "Epoch 21/30\n",
      "1719/1719 [==============================] - 21s 12ms/step - loss: 0.2643 - accuracy: 0.9052 - val_loss: 0.3011 - val_accuracy: 0.8912\n",
      "Epoch 22/30\n",
      "1719/1719 [==============================] - 6s 4ms/step - loss: 0.2599 - accuracy: 0.9072 - val_loss: 0.3212 - val_accuracy: 0.8850\n",
      "Epoch 23/30\n",
      "1719/1719 [==============================] - 15s 9ms/step - loss: 0.2545 - accuracy: 0.9087 - val_loss: 0.3131 - val_accuracy: 0.8896\n",
      "Epoch 24/30\n",
      "1719/1719 [==============================] - 12s 7ms/step - loss: 0.2515 - accuracy: 0.9093 - val_loss: 0.3139 - val_accuracy: 0.8884\n",
      "Epoch 25/30\n",
      "1719/1719 [==============================] - 6s 4ms/step - loss: 0.2463 - accuracy: 0.9125 - val_loss: 0.2964 - val_accuracy: 0.8962\n",
      "Epoch 26/30\n",
      "1719/1719 [==============================] - 6s 4ms/step - loss: 0.2424 - accuracy: 0.9135 - val_loss: 0.3109 - val_accuracy: 0.8888\n",
      "Epoch 27/30\n",
      "1719/1719 [==============================] - 6s 4ms/step - loss: 0.2380 - accuracy: 0.9144 - val_loss: 0.2951 - val_accuracy: 0.8946\n",
      "Epoch 28/30\n",
      "1719/1719 [==============================] - 6s 4ms/step - loss: 0.2340 - accuracy: 0.9159 - val_loss: 0.2991 - val_accuracy: 0.8924\n",
      "Epoch 29/30\n",
      "1719/1719 [==============================] - 11s 6ms/step - loss: 0.2308 - accuracy: 0.9178 - val_loss: 0.2945 - val_accuracy: 0.8936\n",
      "Epoch 30/30\n",
      "1719/1719 [==============================] - 11s 6ms/step - loss: 0.2260 - accuracy: 0.9186 - val_loss: 0.3011 - val_accuracy: 0.8914\n"
     ]
    }
   ],
   "source": [
    "history = model.fit(X_train, y_train, epochs=30, validation_data=(X_valid, y_valid))"
   ]
  },
  {
   "cell_type": "code",
   "execution_count": 11,
   "metadata": {},
   "outputs": [
    {
     "data": {
      "image/png": "[encoded data removed]",
      "text/plain": [
       "<Figure size 576x360 with 1 Axes>"
      ]
     },
     "metadata": {
      "needs_background": "light"
     },
     "output_type": "display_data"
    }
   ],
   "source": [
    "import pandas as pd\n",
    "import matplotlib.pyplot as plt\n",
    "pd.DataFrame(history.history).plot(figsize=(8,5))\n",
    "plt.grid(True)\n",
    "plt.gca().set_ylim(0, 1)\n",
    "plt.show()"
   ]
  },
  {
   "cell_type": "code",
   "execution_count": 12,
   "metadata": {},
   "outputs": [
    {
     "name": "stdout",
     "output_type": "stream",
     "text": [
      "313/313 [==============================] - 1s 4ms/step - loss: 0.3419 - accuracy: 0.8769\n"
     ]
    },
    {
     "data": {
      "text/plain": [
       "[0.3418567180633545, 0.8769000172615051]"
      ]
     },
     "execution_count": 12,
     "metadata": {},
     "output_type": "execute_result"
    }
   ],
   "source": [
    "model.evaluate(X_test, y_test)"
   ]
  },
  {
   "cell_type": "code",
   "execution_count": 13,
   "metadata": {},
   "outputs": [
    {
     "data": {
      "text/plain": [
       "array([[0.  , 0.  , 0.  , 0.  , 0.  , 0.  , 0.  , 0.  , 0.  , 0.99],\n",
       "       [0.  , 0.  , 1.  , 0.  , 0.  , 0.  , 0.  , 0.  , 0.  , 0.  ],\n",
       "       [0.  , 1.  , 0.  , 0.  , 0.  , 0.  , 0.  , 0.  , 0.  , 0.  ]],\n",
       "      dtype=float32)"
      ]
     },
     "execution_count": 13,
     "metadata": {},
     "output_type": "execute_result"
    }
   ],
   "source": [
    "# try out some predictions\n",
    "X_new = X_test[:3]\n",
    "y_proba = model.predict(X_new)\n",
    "y_proba.round(2)\n"
   ]
  },
  {
   "cell_type": "code",
   "execution_count": 14,
   "metadata": {},
   "outputs": [
    {
     "data": {
      "text/plain": [
       "array(['Ankle boot', 'Pullover', 'Trouser'], dtype='<U11')"
      ]
     },
     "execution_count": 14,
     "metadata": {},
     "output_type": "execute_result"
    }
   ],
   "source": [
    "y_pred = np.argmax(y_proba, axis=-1)\n",
    "np.array(class_names)[y_pred]"
   ]
  },
  {
   "cell_type": "code",
   "execution_count": 21,
   "metadata": {},
   "outputs": [
    {
     "data": {
      "text/plain": [
       "(11610, 8)"
      ]
     },
     "execution_count": 21,
     "metadata": {},
     "output_type": "execute_result"
    }
   ],
   "source": [
    "from sklearn.datasets import fetch_california_housing\n",
    "from sklearn.model_selection import train_test_split\n",
    "from sklearn.preprocessing import StandardScaler\n",
    "\n",
    "housing = fetch_california_housing()\n",
    "X_train_full, X_test, y_train_full, y_test = train_test_split(housing.data, housing.target)\n",
    "X_train, X_valid, y_train, y_valid = train_test_split(X_train_full, y_train_full)\n",
    "\n",
    "scaler = StandardScaler()\n",
    "X_train = scaler.fit_transform(X_train)\n",
    "X_valid = scaler.transform(X_valid)\n",
    "X_test = scaler.transform(X_test)\n"
   ]
  },
  {
   "cell_type": "code",
   "execution_count": 16,
   "metadata": {},
   "outputs": [
    {
     "name": "stdout",
     "output_type": "stream",
     "text": [
      "Epoch 1/20\n",
      "363/363 [==============================] - 1s 1ms/step - loss: 1.0001 - val_loss: 2.8272\n",
      "Epoch 2/20\n",
      "363/363 [==============================] - 0s 1ms/step - loss: 0.7897 - val_loss: 0.4443\n",
      "Epoch 3/20\n",
      "363/363 [==============================] - 1s 2ms/step - loss: 0.4343 - val_loss: 0.4015\n",
      "Epoch 4/20\n",
      "363/363 [==============================] - 0s 1ms/step - loss: 0.4093 - val_loss: 0.3943\n",
      "Epoch 5/20\n",
      "363/363 [==============================] - 1s 3ms/step - loss: 0.3974 - val_loss: 0.3820\n",
      "Epoch 6/20\n",
      "363/363 [==============================] - 3s 8ms/step - loss: 0.3895 - val_loss: 0.3764\n",
      "Epoch 7/20\n",
      "363/363 [==============================] - 3s 7ms/step - loss: 0.3849 - val_loss: 0.3770\n",
      "Epoch 8/20\n",
      "363/363 [==============================] - 3s 7ms/step - loss: 0.3825 - val_loss: 0.3647\n",
      "Epoch 9/20\n",
      "363/363 [==============================] - 3s 8ms/step - loss: 0.3775 - val_loss: 0.3639\n",
      "Epoch 10/20\n",
      "363/363 [==============================] - 3s 8ms/step - loss: 0.3757 - val_loss: 0.3817\n",
      "Epoch 11/20\n",
      "363/363 [==============================] - 3s 8ms/step - loss: 0.4064 - val_loss: 0.3715\n",
      "Epoch 12/20\n",
      "363/363 [==============================] - 3s 8ms/step - loss: 0.3872 - val_loss: 0.3603\n",
      "Epoch 13/20\n",
      "363/363 [==============================] - 2s 4ms/step - loss: 0.3762 - val_loss: 0.3876\n",
      "Epoch 14/20\n",
      "363/363 [==============================] - 2s 4ms/step - loss: 0.3706 - val_loss: 0.3578\n",
      "Epoch 15/20\n",
      "363/363 [==============================] - 2s 4ms/step - loss: 0.3661 - val_loss: 0.3510\n",
      "Epoch 16/20\n",
      "363/363 [==============================] - 1s 3ms/step - loss: 0.3700 - val_loss: 0.3496\n",
      "Epoch 17/20\n",
      "363/363 [==============================] - 1s 3ms/step - loss: 0.3581 - val_loss: 0.3504\n",
      "Epoch 18/20\n",
      "363/363 [==============================] - 1s 3ms/step - loss: 0.3764 - val_loss: 0.3846\n",
      "Epoch 19/20\n",
      "363/363 [==============================] - 1s 3ms/step - loss: 0.3704 - val_loss: 0.3528\n",
      "Epoch 20/20\n",
      "363/363 [==============================] - 1s 3ms/step - loss: 0.3688 - val_loss: 0.4074\n",
      "162/162 [==============================] - 0s 3ms/step - loss: 0.4678\n"
     ]
    }
   ],
   "source": [
    "model = keras.models.Sequential([\n",
    "    keras.layers.Dense(30, activation='relu', input_shape=X_train.shape[1:]),\n",
    "    keras.layers.Dense(1)\n",
    "])\n",
    "model.compile(loss='mean_squared_error', optimizer='sgd')\n",
    "history = model.fit(X_train, y_train, epochs=20, validation_data=(X_valid, y_valid))\n",
    "mse_test = model.evaluate(X_test, y_test)\n",
    "X_new = X_test[:3] # pretend these are new instances\n",
    "y_pred = model.predict(X_new)"
   ]
  },
  {
   "cell_type": "code",
   "execution_count": 17,
   "metadata": {},
   "outputs": [
    {
     "data": {
      "image/png": "[encoded data removed]",
      "text/plain": [
       "<Figure size 432x288 with 1 Axes>"
      ]
     },
     "metadata": {
      "needs_background": "light"
     },
     "output_type": "display_data"
    }
   ],
   "source": [
    "plt.plot(pd.DataFrame(history.history))\n",
    "plt.grid(True)\n",
    "plt.gca().set_ylim(0,1)\n",
    "plt.show()"
   ]
  },
  {
   "cell_type": "markdown",
   "metadata": {},
   "source": [
    "# Wide and Deep Neural Network with Functional API"
   ]
  },
  {
   "cell_type": "code",
   "execution_count": 19,
   "metadata": {},
   "outputs": [],
   "source": [
    "input_ = keras.layers.Input(shape=X_train.shape[1:])\n",
    "hidden1 = keras.layers.Dense(30, activation='relu')(input_)\n",
    "hidden2 = keras.layers.Dense(30, activation='relu')(hidden1)\n",
    "concat = keras.layers.Concatenate()([input_, hidden2])\n",
    "output = keras.layers.Dense(1)(concat)\n",
    "model = keras.Model(inputs=[input_], outputs=[output])"
   ]
  },
  {
   "cell_type": "code",
   "execution_count": 22,
   "metadata": {},
   "outputs": [
    {
     "name": "stdout",
     "output_type": "stream",
     "text": [
      "Epoch 1/20\n",
      "363/363 [==============================] - 5s 9ms/step - loss: 0.8858 - val_loss: 66.2182\n",
      "Epoch 2/20\n",
      "363/363 [==============================] - 3s 8ms/step - loss: 1.6051 - val_loss: 18.2158\n",
      "Epoch 3/20\n",
      "363/363 [==============================] - 3s 8ms/step - loss: 1.8875 - val_loss: 14.8827\n",
      "Epoch 4/20\n",
      "363/363 [==============================] - 3s 8ms/step - loss: 0.5693 - val_loss: 19.4519\n",
      "Epoch 5/20\n",
      "363/363 [==============================] - 3s 8ms/step - loss: 4.3684 - val_loss: 5.0924\n",
      "Epoch 6/20\n",
      "363/363 [==============================] - 3s 7ms/step - loss: 0.5710 - val_loss: 21.1288\n",
      "Epoch 7/20\n",
      "363/363 [==============================] - 3s 8ms/step - loss: 1.4452 - val_loss: 147.5084\n",
      "Epoch 8/20\n",
      "363/363 [==============================] - 3s 8ms/step - loss: 14.7186 - val_loss: 95.1792\n",
      "Epoch 9/20\n",
      "363/363 [==============================] - 3s 8ms/step - loss: 22.1840 - val_loss: 4690.5713\n",
      "Epoch 10/20\n",
      "363/363 [==============================] - 3s 8ms/step - loss: 335.8856 - val_loss: 87377.4219\n",
      "Epoch 11/20\n",
      "363/363 [==============================] - 3s 8ms/step - loss: 549572.1875 - val_loss: 1694458.0000\n",
      "Epoch 12/20\n",
      "363/363 [==============================] - 3s 9ms/step - loss: nan - val_loss: nan\n",
      "Epoch 13/20\n",
      "363/363 [==============================] - 3s 8ms/step - loss: nan - val_loss: nan\n",
      "Epoch 14/20\n",
      "363/363 [==============================] - 3s 9ms/step - loss: nan - val_loss: nan\n",
      "Epoch 15/20\n",
      "363/363 [==============================] - 3s 9ms/step - loss: nan - val_loss: nan\n",
      "Epoch 16/20\n",
      "363/363 [==============================] - 3s 8ms/step - loss: nan - val_loss: nan\n",
      "Epoch 17/20\n",
      "363/363 [==============================] - 3s 8ms/step - loss: nan - val_loss: nan\n",
      "Epoch 18/20\n",
      "363/363 [==============================] - 3s 8ms/step - loss: nan - val_loss: nan\n",
      "Epoch 19/20\n",
      "363/363 [==============================] - 3s 9ms/step - loss: nan - val_loss: nan\n",
      "Epoch 20/20\n",
      "363/363 [==============================] - 3s 8ms/step - loss: nan - val_loss: nan\n",
      "162/162 [==============================] - 1s 6ms/step - loss: nan\n"
     ]
    }
   ],
   "source": [
    "# compile\n",
    "model.compile(loss='mean_squared_error', optimizer='sgd')\n",
    "\n",
    "# train\n",
    "history = model.fit(X_train, y_train, epochs=20, validation_data=(X_valid, y_valid))\n",
    "\n",
    "# evaluate\n",
    "mse_test = model.evaluate(X_test, y_test)\n",
    "\n",
    "\n",
    "# predict\n",
    "\n",
    "X_new = X_test[:3] # pretend these are new instances\n",
    "y_pred = model.predict(X_new)"
   ]
  },
  {
   "cell_type": "markdown",
   "metadata": {},
   "source": [
    "### that training diverged. \n",
    "\n",
    "# use multiple inputs instead"
   ]
  },
  {
   "cell_type": "code",
   "execution_count": 28,
   "metadata": {},
   "outputs": [],
   "source": [
    "input_A = keras.layers.Input(shape=[5], name='wide_input')\n",
    "input_B = keras.layers.Input(shape=[6], name='deep_input')\n",
    "hidden1 = keras.layers.Dense(30, activation='relu')(input_B)\n",
    "hidden2 = keras.layers.Dense(30, activation='relu')(hidden1)\n",
    "concat = keras.layers.concatenate([input_A, hidden2])\n",
    "output = keras.layers.Dense(1, name='output')(concat)\n",
    "model = keras.Model(inputs=[input_A, input_B], outputs=[output])"
   ]
  },
  {
   "cell_type": "code",
   "execution_count": 25,
   "metadata": {},
   "outputs": [
    {
     "name": "stdout",
     "output_type": "stream",
     "text": [
      "Epoch 1/20\n",
      "363/363 [==============================] - 5s 10ms/step - loss: 1.8469 - val_loss: 1.0086\n",
      "Epoch 2/20\n",
      "363/363 [==============================] - 3s 9ms/step - loss: 0.8599 - val_loss: 0.7901\n",
      "Epoch 3/20\n",
      "363/363 [==============================] - 3s 9ms/step - loss: 0.7374 - val_loss: 0.7115\n",
      "Epoch 4/20\n",
      "363/363 [==============================] - 3s 9ms/step - loss: 0.6773 - val_loss: 0.6598\n",
      "Epoch 5/20\n",
      "363/363 [==============================] - 3s 8ms/step - loss: 0.6373 - val_loss: 0.6278\n",
      "Epoch 6/20\n",
      "363/363 [==============================] - 3s 9ms/step - loss: 0.6071 - val_loss: 0.6020\n",
      "Epoch 7/20\n",
      "363/363 [==============================] - 3s 9ms/step - loss: 0.5824 - val_loss: 0.5788\n",
      "Epoch 8/20\n",
      "363/363 [==============================] - 3s 9ms/step - loss: 0.5613 - val_loss: 0.5603\n",
      "Epoch 9/20\n",
      "363/363 [==============================] - 3s 9ms/step - loss: 0.5435 - val_loss: 0.5442\n",
      "Epoch 10/20\n",
      "363/363 [==============================] - 3s 8ms/step - loss: 0.5276 - val_loss: 0.5304\n",
      "Epoch 11/20\n",
      "363/363 [==============================] - 3s 9ms/step - loss: 0.5136 - val_loss: 0.5205\n",
      "Epoch 12/20\n",
      "363/363 [==============================] - 3s 9ms/step - loss: 0.5019 - val_loss: 0.5091\n",
      "Epoch 13/20\n",
      "363/363 [==============================] - 3s 9ms/step - loss: 0.4912 - val_loss: 0.4982\n",
      "Epoch 14/20\n",
      "363/363 [==============================] - 3s 9ms/step - loss: 0.4816 - val_loss: 0.4909\n",
      "Epoch 15/20\n",
      "363/363 [==============================] - 3s 9ms/step - loss: 0.4739 - val_loss: 0.4840\n",
      "Epoch 16/20\n",
      "363/363 [==============================] - 3s 8ms/step - loss: 0.4662 - val_loss: 0.4795\n",
      "Epoch 17/20\n",
      "363/363 [==============================] - 3s 9ms/step - loss: 0.4604 - val_loss: 0.4715\n",
      "Epoch 18/20\n",
      "363/363 [==============================] - 3s 9ms/step - loss: 0.4547 - val_loss: 0.4668\n",
      "Epoch 19/20\n",
      "363/363 [==============================] - 3s 9ms/step - loss: 0.4496 - val_loss: 0.4623\n",
      "Epoch 20/20\n",
      "363/363 [==============================] - 3s 9ms/step - loss: 0.4454 - val_loss: 0.4570\n",
      "162/162 [==============================] - 1s 6ms/step - loss: 0.4657\n"
     ]
    }
   ],
   "source": [
    "model.compile(loss='mse', optimizer=keras.optimizers.SGD(lr=1e-3))\n",
    "\n",
    "X_train_A, X_train_B = X_train[:, :5], X_train[:, 2:]\n",
    "X_valid_A, X_valid_B = X_valid[:, :5], X_valid[:, 2:]\n",
    "X_test_A, X_test_B = X_test[:, :5], X_test[:, 2:]\n",
    "X_new_A, X_new_B = X_test_A[:3], X_test_B[:3]\n",
    "\n",
    "history = model.fit((X_train_A, X_train_B), y_train, epochs=20, validation_data=((X_valid_A, X_valid_B), y_valid))\n",
    "mse_test = model.evaluate((X_test_A, X_test_B), y_test)\n",
    "y_pred = model.predict((X_new_A, X_new_B))"
   ]
  },
  {
   "cell_type": "code",
   "execution_count": 26,
   "metadata": {},
   "outputs": [
    {
     "name": "stdout",
     "output_type": "stream",
     "text": [
      "Epoch 1/20\n",
      "363/363 [==============================] - 7s 12ms/step - loss: 1.0148 - main_output_loss: 0.9181 - auxiliary_output_loss: 1.8850 - val_loss: 2.6129 - val_main_output_loss: 2.7408 - val_auxiliary_output_loss: 1.4618\n",
      "Epoch 2/20\n",
      "363/363 [==============================] - 3s 10ms/step - loss: 0.7309 - main_output_loss: 0.6861 - auxiliary_output_loss: 1.1335 - val_loss: 6.2022 - val_main_output_loss: 6.7279 - val_auxiliary_output_loss: 1.4709\n",
      "Epoch 3/20\n",
      "363/363 [==============================] - 3s 9ms/step - loss: 1.0403 - main_output_loss: 1.0309 - auxiliary_output_loss: 1.1245 - val_loss: 0.5521 - val_main_output_loss: 0.4952 - val_auxiliary_output_loss: 1.0648\n",
      "Epoch 4/20\n",
      "363/363 [==============================] - 4s 10ms/step - loss: 0.4813 - main_output_loss: 0.4361 - auxiliary_output_loss: 0.8887 - val_loss: 0.4763 - val_main_output_loss: 0.4355 - val_auxiliary_output_loss: 0.8436\n",
      "Epoch 5/20\n",
      "363/363 [==============================] - 4s 10ms/step - loss: 0.4507 - main_output_loss: 0.4169 - auxiliary_output_loss: 0.7549 - val_loss: 0.4582 - val_main_output_loss: 0.4279 - val_auxiliary_output_loss: 0.7311\n",
      "Epoch 6/20\n",
      "363/363 [==============================] - 4s 10ms/step - loss: 0.4307 - main_output_loss: 0.4034 - auxiliary_output_loss: 0.6762 - val_loss: 0.4343 - val_main_output_loss: 0.4084 - val_auxiliary_output_loss: 0.6673\n",
      "Epoch 7/20\n",
      "363/363 [==============================] - 4s 10ms/step - loss: 0.4172 - main_output_loss: 0.3939 - auxiliary_output_loss: 0.6273 - val_loss: 0.4248 - val_main_output_loss: 0.4017 - val_auxiliary_output_loss: 0.6322\n",
      "Epoch 8/20\n",
      "363/363 [==============================] - 4s 10ms/step - loss: 0.4083 - main_output_loss: 0.3872 - auxiliary_output_loss: 0.5987 - val_loss: 0.4177 - val_main_output_loss: 0.3969 - val_auxiliary_output_loss: 0.6052\n",
      "Epoch 9/20\n",
      "363/363 [==============================] - 4s 10ms/step - loss: 0.3975 - main_output_loss: 0.3778 - auxiliary_output_loss: 0.5744 - val_loss: 0.4068 - val_main_output_loss: 0.3868 - val_auxiliary_output_loss: 0.5866\n",
      "Epoch 10/20\n",
      "363/363 [==============================] - 4s 10ms/step - loss: 0.3912 - main_output_loss: 0.3728 - auxiliary_output_loss: 0.5575 - val_loss: 0.4029 - val_main_output_loss: 0.3847 - val_auxiliary_output_loss: 0.5665\n",
      "Epoch 11/20\n",
      "363/363 [==============================] - 4s 10ms/step - loss: 0.3861 - main_output_loss: 0.3685 - auxiliary_output_loss: 0.5447 - val_loss: 0.4119 - val_main_output_loss: 0.3937 - val_auxiliary_output_loss: 0.5757\n",
      "Epoch 12/20\n",
      "363/363 [==============================] - 4s 10ms/step - loss: 0.3807 - main_output_loss: 0.3639 - auxiliary_output_loss: 0.5324 - val_loss: 0.3937 - val_main_output_loss: 0.3762 - val_auxiliary_output_loss: 0.5511\n",
      "Epoch 13/20\n",
      "363/363 [==============================] - 4s 10ms/step - loss: 0.3760 - main_output_loss: 0.3598 - auxiliary_output_loss: 0.5221 - val_loss: 0.3902 - val_main_output_loss: 0.3732 - val_auxiliary_output_loss: 0.5434\n",
      "Epoch 14/20\n",
      "363/363 [==============================] - 3s 8ms/step - loss: 0.3712 - main_output_loss: 0.3557 - auxiliary_output_loss: 0.5106 - val_loss: 0.3858 - val_main_output_loss: 0.3694 - val_auxiliary_output_loss: 0.5339\n",
      "Epoch 15/20\n",
      "363/363 [==============================] - 3s 9ms/step - loss: 0.3675 - main_output_loss: 0.3526 - auxiliary_output_loss: 0.5022 - val_loss: 0.3758 - val_main_output_loss: 0.3606 - val_auxiliary_output_loss: 0.5124\n",
      "Epoch 16/20\n",
      "363/363 [==============================] - 3s 9ms/step - loss: 0.3644 - main_output_loss: 0.3500 - auxiliary_output_loss: 0.4935 - val_loss: 0.3810 - val_main_output_loss: 0.3665 - val_auxiliary_output_loss: 0.5118\n",
      "Epoch 17/20\n",
      "363/363 [==============================] - 4s 10ms/step - loss: 0.3597 - main_output_loss: 0.3457 - auxiliary_output_loss: 0.4853 - val_loss: 0.3692 - val_main_output_loss: 0.3549 - val_auxiliary_output_loss: 0.4977\n",
      "Epoch 18/20\n",
      "363/363 [==============================] - 4s 10ms/step - loss: 0.3574 - main_output_loss: 0.3439 - auxiliary_output_loss: 0.4788 - val_loss: 0.3689 - val_main_output_loss: 0.3555 - val_auxiliary_output_loss: 0.4893\n",
      "Epoch 19/20\n",
      "363/363 [==============================] - 4s 10ms/step - loss: 0.3517 - main_output_loss: 0.3387 - auxiliary_output_loss: 0.4685 - val_loss: 0.3744 - val_main_output_loss: 0.3613 - val_auxiliary_output_loss: 0.4927\n",
      "Epoch 20/20\n",
      "363/363 [==============================] - 4s 10ms/step - loss: 0.3513 - main_output_loss: 0.3389 - auxiliary_output_loss: 0.4632 - val_loss: 0.4011 - val_main_output_loss: 0.3924 - val_auxiliary_output_loss: 0.4790\n",
      "162/162 [==============================] - 1s 7ms/step - loss: 0.3985 - main_output_loss: 0.3900 - auxiliary_output_loss: 0.4755\n",
      "WARNING:tensorflow:5 out of the last 5 calls to <function Model.make_predict_function.<locals>.predict_function at 0x7f27e3861280> triggered tf.function retracing. Tracing is expensive and the excessive number of tracings could be due to (1) creating @tf.function repeatedly in a loop, (2) passing tensors with different shapes, (3) passing Python objects instead of tensors. For (1), please define your @tf.function outside of the loop. For (2), @tf.function has experimental_relax_shapes=True option that relaxes argument shapes that can avoid unnecessary retracing. For (3), please refer to https://www.tensorflow.org/guide/function#controlling_retracing and https://www.tensorflow.org/api_docs/python/tf/function for  more details.\n"
     ]
    }
   ],
   "source": [
    "# same model, but with auxiliary output for the deep part\n",
    "input_A = keras.layers.Input(shape=[5], name='wide_input')\n",
    "input_B = keras.layers.Input(shape=[6], name='deep_input')\n",
    "hidden1 = keras.layers.Dense(30, activation='relu')(input_B)\n",
    "hidden2 = keras.layers.Dense(30, activation='relu')(hidden1)\n",
    "concat = keras.layers.concatenate([input_A, hidden2])\n",
    "output = keras.layers.Dense(1, name='main_output')(concat)\n",
    "aux_output = keras.layers.Dense(1, name='auxiliary_output')(hidden2)\n",
    "model = keras.Model(inputs=[input_A, input_B], outputs=[output, aux_output])\n",
    "\n",
    "# multiple outputs means multiple loss functions - and weights for them!\n",
    "model.compile(loss=['mse', 'mse'], loss_weights=[0.9, 0.1], optimizer='sgd')\n",
    "\n",
    "history = model.fit([X_train_A, X_train_B], [y_train, y_train], epochs=20, validation_data=([X_valid_A, X_valid_B], [y_valid, y_valid]))\n",
    "\n",
    "total_loss, main_loss, aux_loss = model.evaluate([X_test_A, X_test_B], [y_test, y_test])\n",
    "\n",
    "y_pred_main, y_pred_aux = model.predict([X_new_A, X_new_B])"
   ]
  },
  {
   "cell_type": "markdown",
   "metadata": {},
   "source": [
    "# same model using subclassing API"
   ]
  },
  {
   "cell_type": "code",
   "execution_count": 27,
   "metadata": {},
   "outputs": [],
   "source": [
    "class WideAndDeepModel(keras.Model):\n",
    "    def __init__(self, units=30, activation='relu', **kwargs):\n",
    "        super().__init__(**kwargs) # handles standard args\n",
    "        self.hidden1 = keras.layers.Dense(units, activation=activation)\n",
    "        self.hidden2 = keras.layers.Dense(units, activation=activation)\n",
    "        self.main_output = keras.layers.Dense(1)\n",
    "        self.aux_output = keras.layers.Dense(1)\n",
    "\n",
    "    def call(self, inputs):\n",
    "        input_A, input_B = inputs\n",
    "        hidden1 = self.hidden1(input_B)\n",
    "        hidden2 = self.hidden2(hidden1)\n",
    "        concat = keras.layers.concatenate([input_A, hidden2])\n",
    "        main_output = self.main_output(concat)\n",
    "        aux_output = self.aux_output(hidden2)\n",
    "        return main_output, aux_output\n",
    "\n",
    "\n"
   ]
  },
  {
   "cell_type": "markdown",
   "metadata": {},
   "source": [
    "# Saving and Restoring a model"
   ]
  },
  {
   "cell_type": "code",
   "execution_count": null,
   "metadata": {},
   "outputs": [],
   "source": [
    "# model.save(my_name)\n",
    "# model = keras.models.load_model(my_name)"
   ]
  },
  {
   "cell_type": "markdown",
   "metadata": {},
   "source": [
    "# Callbacks"
   ]
  },
  {
   "cell_type": "code",
   "execution_count": null,
   "metadata": {},
   "outputs": [],
   "source": [
    "# build and compile model again\n",
    "input_A = keras.layers.Input(shape=[5], name='wide_input')\n",
    "input_B = keras.layers.Input(shape=[6], name='deep_input')\n",
    "hidden1 = keras.layers.Dense(30, activation='relu')(input_B)\n",
    "hidden2 = keras.layers.Dense(30, activation='relu')(hidden1)\n",
    "concat = keras.layers.concatenate([input_A, hidden2])\n",
    "output = keras.layers.Dense(1, name='main_output')(concat)\n",
    "aux_output = keras.layers.Dense(1, name='auxiliary_output')(hidden2)\n",
    "model = keras.Model(inputs=[input_A, input_B], outputs=[output, aux_output])\n",
    "\n",
    "# multiple outputs means multiple loss functions - and weights for them!\n",
    "model.compile(loss=['mse', 'mse'], loss_weights=[0.9, 0.1], optimizer='sgd')\n",
    "\n",
    "# callback, crude implementation of early stopping\n",
    "checkpoint_cb = keras.callbacks.ModelCheckpoint('my_keras_model.h5', save_best_only=True)\n",
    "history = model.fit([X_train_A, X_train_B], [y_train, y_train], epochs=10, validation_data=([X_valid_A, X_valid_B], [y_valid, y_valid]), callbacks=[checkpoint_cb])\n",
    "\n"
   ]
  },
  {
   "cell_type": "code",
   "execution_count": null,
   "metadata": {},
   "outputs": [],
   "source": [
    "# use the official early stopping callback\n",
    "early_stopping_cb = keras.callbacks.EarlyStopping(patience=10, restore_best_weights=True)\n",
    "history = model.fit([X_train_A, X_train_B], [y_train, y_train], epochs=10, validation_data=([X_valid_A, X_valid_B], [y_valid, y_valid]), callbacks=[checkpoint_cb, early_stopping_cb])"
   ]
  },
  {
   "cell_type": "code",
   "execution_count": null,
   "metadata": {},
   "outputs": [],
   "source": [
    "# build a custom callback\n",
    "class PrintValTrainRatioCallback(keras.callbacks.Callback):\n",
    "    def on_epoch_end(self, epoch, logs):\n",
    "        print('\\nval/train: {:.2f}'.format(logs['val_loss'] / logs['loss']))"
   ]
  }
 ],
 "metadata": {
  "interpreter": {
   "hash": "916dbcbb3f70747c44a77c7bcd40155683ae19c65e1c03b4aa3499c5328201f1"
  },
  "kernelspec": {
   "display_name": "Python 3.8.10 64-bit",
   "name": "python3"
  },
  "language_info": {
   "codemirror_mode": {
    "name": "ipython",
    "version": 3
   },
   "file_extension": ".py",
   "mimetype": "text/x-python",
   "name": "python",
   "nbconvert_exporter": "python",
   "pygments_lexer": "ipython3",
   "version": "3.8.10"
  },
  "orig_nbformat": 4
 },
 "nbformat": 4,
 "nbformat_minor": 2
}
