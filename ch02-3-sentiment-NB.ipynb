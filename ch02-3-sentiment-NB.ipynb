{
 "metadata": {
  "language_info": {
   "codemirror_mode": {
    "name": "ipython",
    "version": 3
   },
   "file_extension": ".py",
   "mimetype": "text/x-python",
   "name": "python",
   "nbconvert_exporter": "python",
   "pygments_lexer": "ipython3",
   "version": "3.8.6-final"
  },
  "orig_nbformat": 2,
  "kernelspec": {
   "name": "python3",
   "display_name": "Python 3.8.6 64-bit",
   "metadata": {
    "interpreter": {
     "hash": "59507d4b7a424780c7daeb44aadd3841b613d4d87d8fb5cbad99945b5c4a9b7a"
    }
   }
  }
 },
 "nbformat": 4,
 "nbformat_minor": 2,
 "cells": [
  {
   "cell_type": "code",
   "execution_count": 23,
   "metadata": {},
   "outputs": [],
   "source": [
    "# this is an example for a naive bayes sentiment analyzer from the book \"Natural Language Processing in Action\" by Lane, Howard and Hapke.\n",
    "# i only added a few more comments and made it work without installing the NLPIA package.\n",
    "\n",
    "import pandas as pd\n",
    "from nltk.tokenize import casual_tokenize\n",
    "from collections import Counter\n",
    "from sklearn.naive_bayes import MultinomialNB\n",
    "\n",
    "# read in the text file \n",
    "movies = pd.read_csv('movieReviewSnippets_GroundTruth.txt', sep='\\t', index_col=0, names=['sentiment', 'text'] )"
   ]
  },
  {
   "cell_type": "code",
   "execution_count": 24,
   "metadata": {},
   "outputs": [
    {
     "output_type": "execute_result",
     "data": {
      "text/plain": [
       "          sentiment\n",
       "count  10605.000000\n",
       "mean       0.004831\n",
       "std        1.922050\n",
       "min       -3.875000\n",
       "25%       -1.769231\n",
       "50%       -0.080000\n",
       "75%        1.833333\n",
       "max        3.941176"
      ],
      "text/html": "<div>\n<style scoped>\n    .dataframe tbody tr th:only-of-type {\n        vertical-align: middle;\n    }\n\n    .dataframe tbody tr th {\n        vertical-align: top;\n    }\n\n    .dataframe thead th {\n        text-align: right;\n    }\n</style>\n<table border=\"1\" class=\"dataframe\">\n  <thead>\n    <tr style=\"text-align: right;\">\n      <th></th>\n      <th>sentiment</th>\n    </tr>\n  </thead>\n  <tbody>\n    <tr>\n      <th>count</th>\n      <td>10605.000000</td>\n    </tr>\n    <tr>\n      <th>mean</th>\n      <td>0.004831</td>\n    </tr>\n    <tr>\n      <th>std</th>\n      <td>1.922050</td>\n    </tr>\n    <tr>\n      <th>min</th>\n      <td>-3.875000</td>\n    </tr>\n    <tr>\n      <th>25%</th>\n      <td>-1.769231</td>\n    </tr>\n    <tr>\n      <th>50%</th>\n      <td>-0.080000</td>\n    </tr>\n    <tr>\n      <th>75%</th>\n      <td>1.833333</td>\n    </tr>\n    <tr>\n      <th>max</th>\n      <td>3.941176</td>\n    </tr>\n  </tbody>\n</table>\n</div>"
     },
     "metadata": {},
     "execution_count": 24
    }
   ],
   "source": [
    "# lets take a quick look at our data\n",
    "movies.describe()"
   ]
  },
  {
   "cell_type": "code",
   "execution_count": 25,
   "metadata": {},
   "outputs": [
    {
     "output_type": "execute_result",
     "data": {
      "text/plain": [
       "(10605, 20756)"
      ]
     },
     "metadata": {},
     "execution_count": 25
    }
   ],
   "source": [
    "# the reviews are rated from -4 to 4\n",
    "\n",
    "# let's convert them into the bag-of-words representation\n",
    "\n",
    "bags_of_words = []\n",
    "for text in movies.text:\n",
    "    bags_of_words.append(Counter(casual_tokenize(text))) # Counter creates a dict with token: count of token\n",
    "\n",
    "# lets create a Dataframe of bows\n",
    "df_bows = pd.DataFrame.from_records(bags_of_words)\n",
    "# fill all NaN with zero so we can convert them to int\n",
    "df_bows = df_bows.fillna(0).astype(int)\n",
    "\n",
    "# lets see how large our bow table has become\n",
    "df_bows.shape"
   ]
  },
  {
   "cell_type": "code",
   "execution_count": 26,
   "metadata": {},
   "outputs": [],
   "source": [
    "# the 10605 reviews include 20756 different tokens\n",
    "# what threw me off at first is: the bag-of-words conversion via the Counter returns dense representations - only actually present tokens are included in the bow representation of a single review.\n",
    "# these become sparse by creating the dataframe - from_records creates one column per unique key in the list of bow representations and fills each column with missing values with NaN (which we then replaced by 0)."
   ]
  },
  {
   "cell_type": "code",
   "execution_count": 27,
   "metadata": {},
   "outputs": [
    {
     "output_type": "execute_result",
     "data": {
      "text/plain": [
       "2.4"
      ]
     },
     "metadata": {},
     "execution_count": 27
    }
   ],
   "source": [
    "# lets start with the model itself\n",
    "# warning: this example from the book does not split test and training data!\n",
    "nb = MultinomialNB()\n",
    "nb = nb.fit(df_bows, movies.sentiment > 0) # this converts the sentiment to a discrete label\n",
    "movies['predicted_sentiment'] = nb.predict(df_bows) * 8 - 4 #convert binary classification to -4 or 4 for comparison.\n",
    "# lets have a look on the models performance\n",
    "movies['error'] = (movies.predicted_sentiment - movies.sentiment).abs()\n",
    "movies.error.mean().round(1)"
   ]
  },
  {
   "cell_type": "code",
   "execution_count": 28,
   "metadata": {},
   "outputs": [],
   "source": [
    "# the MAE is 2.4"
   ]
  },
  {
   "cell_type": "code",
   "execution_count": 30,
   "metadata": {},
   "outputs": [
    {
     "output_type": "execute_result",
     "data": {
      "text/plain": [
       "   sentiment  predicted_sentiment  sentiment_ispositive  predicted_ispositive\n",
       "1   2.266667                    4                     1                     1\n",
       "2   3.533333                    4                     1                     1\n",
       "3  -0.600000                   -4                     0                     0\n",
       "4   1.466667                    4                     1                     1\n",
       "5   1.733333                    4                     1                     1\n",
       "6   2.533333                    4                     1                     1\n",
       "7   2.466667                    4                     1                     1\n",
       "8   1.266667                   -4                     1                     0"
      ],
      "text/html": "<div>\n<style scoped>\n    .dataframe tbody tr th:only-of-type {\n        vertical-align: middle;\n    }\n\n    .dataframe tbody tr th {\n        vertical-align: top;\n    }\n\n    .dataframe thead th {\n        text-align: right;\n    }\n</style>\n<table border=\"1\" class=\"dataframe\">\n  <thead>\n    <tr style=\"text-align: right;\">\n      <th></th>\n      <th>sentiment</th>\n      <th>predicted_sentiment</th>\n      <th>sentiment_ispositive</th>\n      <th>predicted_ispositive</th>\n    </tr>\n  </thead>\n  <tbody>\n    <tr>\n      <th>1</th>\n      <td>2.266667</td>\n      <td>4</td>\n      <td>1</td>\n      <td>1</td>\n    </tr>\n    <tr>\n      <th>2</th>\n      <td>3.533333</td>\n      <td>4</td>\n      <td>1</td>\n      <td>1</td>\n    </tr>\n    <tr>\n      <th>3</th>\n      <td>-0.600000</td>\n      <td>-4</td>\n      <td>0</td>\n      <td>0</td>\n    </tr>\n    <tr>\n      <th>4</th>\n      <td>1.466667</td>\n      <td>4</td>\n      <td>1</td>\n      <td>1</td>\n    </tr>\n    <tr>\n      <th>5</th>\n      <td>1.733333</td>\n      <td>4</td>\n      <td>1</td>\n      <td>1</td>\n    </tr>\n    <tr>\n      <th>6</th>\n      <td>2.533333</td>\n      <td>4</td>\n      <td>1</td>\n      <td>1</td>\n    </tr>\n    <tr>\n      <th>7</th>\n      <td>2.466667</td>\n      <td>4</td>\n      <td>1</td>\n      <td>1</td>\n    </tr>\n    <tr>\n      <th>8</th>\n      <td>1.266667</td>\n      <td>-4</td>\n      <td>1</td>\n      <td>0</td>\n    </tr>\n  </tbody>\n</table>\n</div>"
     },
     "metadata": {},
     "execution_count": 30
    }
   ],
   "source": [
    "movies['sentiment_ispositive'] = (movies.sentiment > 0 ).astype(int)\n",
    "movies['predicted_ispositive'] = (movies.predicted_sentiment > 0 ).astype(int)\n",
    "movies['sentiment predicted_sentiment sentiment_ispositive predicted_ispositive'.split()].head(8)"
   ]
  },
  {
   "cell_type": "code",
   "execution_count": 31,
   "metadata": {},
   "outputs": [
    {
     "output_type": "execute_result",
     "data": {
      "text/plain": [
       "0.9344648750589345"
      ]
     },
     "metadata": {},
     "execution_count": 31
    }
   ],
   "source": [
    "(movies.predicted_ispositive == movies.sentiment_ispositive).sum() / len(movies)"
   ]
  },
  {
   "cell_type": "code",
   "execution_count": null,
   "metadata": {},
   "outputs": [],
   "source": []
  }
 ]
}